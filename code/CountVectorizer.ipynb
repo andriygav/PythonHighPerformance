{
 "cells": [
  {
   "cell_type": "code",
   "execution_count": 1,
   "metadata": {},
   "outputs": [],
   "source": [
    "import Cython\n",
    "%load_ext Cython"
   ]
  },
  {
   "cell_type": "code",
   "execution_count": 2,
   "metadata": {},
   "outputs": [],
   "source": [
    "import time\n",
    "import numpy as np\n",
    "from tqdm import tqdm_notebook as tqdm"
   ]
  },
  {
   "cell_type": "markdown",
   "metadata": {},
   "source": [
    "# WordEmbeding [CountVectorizer]"
   ]
  },
  {
   "cell_type": "markdown",
   "metadata": {},
   "source": [
    "## Data"
   ]
  },
  {
   "cell_type": "code",
   "execution_count": 3,
   "metadata": {},
   "outputs": [],
   "source": [
    "import re\n",
    "import numpy as np\n",
    "from sklearn.feature_extraction.text import CountVectorizer"
   ]
  },
  {
   "cell_type": "code",
   "execution_count": 4,
   "metadata": {},
   "outputs": [],
   "source": [
    "with open('../data/ru.tok', 'r') as f:\n",
    "    corpus = f.read().lower().splitlines()"
   ]
  },
  {
   "cell_type": "markdown",
   "metadata": {},
   "source": [
    "## Models"
   ]
  },
  {
   "cell_type": "markdown",
   "metadata": {},
   "source": [
    "### Python Vectorizer"
   ]
  },
  {
   "cell_type": "code",
   "execution_count": 5,
   "metadata": {},
   "outputs": [],
   "source": [
    "token_pattern = re.compile(r\"(?u)\\b\\w\\w+\\b\")\n",
    "class Vectorizer:\n",
    "    def __init__(self):\n",
    "        self.WordToInt = dict()\n",
    "        pass\n",
    "    \n",
    "    def split_sent(self, sent):\n",
    "        return token_pattern.findall(sent)\n",
    "    \n",
    "    def _fit(self, corpus):\n",
    "        for sent in corpus:\n",
    "            words = self.split_sent(sent)\n",
    "            for word in words:\n",
    "                if word not in self.WordToInt:\n",
    "                    self.WordToInt[word] = len(self.WordToInt)\n",
    "        return\n",
    "    \n",
    "    def fit(self, corpus):\n",
    "        return self._fit(corpus)\n",
    "    \n",
    "    def get_feature_names(self):\n",
    "        return list(self.WordToInt.keys())\n",
    "    \n",
    "    def _transform(self, corpus):\n",
    "        transformed = np.zeros([len(corpus), len(self.WordToInt)], dtype=np.int64)\n",
    "        for i, sent in enumerate(corpus):\n",
    "            words = self.split_sent(sent)\n",
    "            row = transformed[i]\n",
    "            LocalVocab = dict()\n",
    "            for word in words:\n",
    "                if word in self.WordToInt:\n",
    "                    ind = self.WordToInt[word]\n",
    "                    if ind not in LocalVocab:\n",
    "                        LocalVocab[ind] = 1\n",
    "                    else:\n",
    "                        LocalVocab[ind] += 1\n",
    "                    \n",
    "            for ind in LocalVocab:\n",
    "                row[ind]=LocalVocab[ind];\n",
    "                    \n",
    "        return transformed\n",
    "    \n",
    "    def transform(self, corpus):\n",
    "        return self._transform(corpus)\n",
    "    \n",
    "    def fit_transform(self, corpus):\n",
    "        self._fit(corpus)\n",
    "        return self._transform(corpus)"
   ]
  },
  {
   "cell_type": "markdown",
   "metadata": {},
   "source": [
    "### Cython Vectorizer and Cython+Typed Vectorizer"
   ]
  },
  {
   "cell_type": "code",
   "execution_count": 6,
   "metadata": {},
   "outputs": [],
   "source": [
    "%%cython\n",
    "import re\n",
    "import numpy as np\n",
    "cimport numpy as np\n",
    "np.import_array()\n",
    "\n",
    "token_pattern = re.compile(r\"(?u)\\b\\w\\w+\\b\")\n",
    "\n",
    "class CythonVectorizer:\n",
    "    def __init__(self):\n",
    "        self.WordToInt = dict()\n",
    "        pass\n",
    "    \n",
    "    def split_sent(self, sent):\n",
    "        return token_pattern.findall(sent)\n",
    "    \n",
    "    def fit(self, corpus):\n",
    "        for sent in corpus:\n",
    "            words = self.split_sent(sent)\n",
    "            for word in words:\n",
    "                if word not in self.WordToInt:\n",
    "                    self.WordToInt[word] = len(self.WordToInt)\n",
    "        return\n",
    "    \n",
    "    def get_feature_names(self):\n",
    "        return list(self.WordToInt.keys())\n",
    "    \n",
    "    def transform(self, corpus):\n",
    "        transformed = np.zeros([len(corpus), len(self.WordToInt)], dtype=np.int64)\n",
    "        for i, sent in enumerate(corpus):\n",
    "            words = self.split_sent(sent)\n",
    "            row = transformed[i]\n",
    "            LocalVocab = dict()\n",
    "            for word in words:\n",
    "                if word in self.WordToInt:\n",
    "                    ind = self.WordToInt[word]\n",
    "                    if ind not in LocalVocab:\n",
    "                        LocalVocab[ind] = 1\n",
    "                    else:\n",
    "                        LocalVocab[ind] += 1\n",
    "                    \n",
    "            for ind in LocalVocab:\n",
    "                row[ind]=LocalVocab[ind];\n",
    "                    \n",
    "        return transformed\n",
    "    \n",
    "    def fit_transform(self, corpus):\n",
    "        self._fit(corpus)\n",
    "        return self._transform(corpus)\n",
    "\n",
    "\n",
    "\n",
    "\n",
    "cdef class CythonTypedVectorizer:\n",
    "    cdef dict WordToInt\n",
    "    def __cinit__(self):\n",
    "        self.WordToInt = dict()\n",
    "        pass\n",
    "        \n",
    "    cdef list split_sent(self, str sent):\n",
    "        return token_pattern.findall(sent)\n",
    "    \n",
    "    cpdef void fit(self, list corpus):\n",
    "        cdef str word, sent\n",
    "        cdef list words\n",
    "        for sent in corpus:\n",
    "            words = self.split_sent(sent)\n",
    "            for word in words:\n",
    "                if word not in self.WordToInt:\n",
    "                    self.WordToInt[word] = len(self.WordToInt)\n",
    "        return\n",
    "    \n",
    "    def get_feature_names(self):\n",
    "        return list(self.WordToInt.keys())\n",
    "    \n",
    "    cpdef np.ndarray transform(self, list corpus):\n",
    "        cdef np.ndarray row\n",
    "        cdef dict LocalVocab\n",
    "        cdef str word, sent\n",
    "        cdef int i, ind\n",
    "        cdef list words\n",
    "        cdef np.ndarray transformed = np.zeros([len(corpus), len(self.WordToInt)], dtype=np.int64)\n",
    "        for i, sent in enumerate(corpus):\n",
    "            words = self.split_sent(sent)\n",
    "            row = transformed[i]\n",
    "            LocalVocab = dict()\n",
    "            for word in words:\n",
    "                if word in self.WordToInt:\n",
    "                    ind = self.WordToInt[word]\n",
    "                    if ind not in LocalVocab:\n",
    "                        LocalVocab[ind] = 1\n",
    "                    else:\n",
    "                        LocalVocab[ind] += 1\n",
    "                    \n",
    "            for ind in LocalVocab:\n",
    "                row[ind]=LocalVocab[ind];\n",
    "                    \n",
    "        return transformed\n",
    "    \n",
    "    def fit_transform(self, list corpus):\n",
    "        self._fit(corpus)\n",
    "        return self._transform(corpus)"
   ]
  },
  {
   "cell_type": "markdown",
   "metadata": {},
   "source": [
    "## Comparison"
   ]
  },
  {
   "cell_type": "code",
   "execution_count": 7,
   "metadata": {},
   "outputs": [],
   "source": [
    "model = CythonTypedVectorizer()"
   ]
  },
  {
   "cell_type": "code",
   "execution_count": 8,
   "metadata": {},
   "outputs": [
    {
     "name": "stdout",
     "output_type": "stream",
     "text": [
      "CPU times: user 564 ms, sys: 7.1 ms, total: 571 ms\n",
      "Wall time: 571 ms\n"
     ]
    }
   ],
   "source": [
    "%%time\n",
    "model.fit(corpus)"
   ]
  },
  {
   "cell_type": "code",
   "execution_count": 9,
   "metadata": {},
   "outputs": [
    {
     "name": "stdout",
     "output_type": "stream",
     "text": [
      "CPU times: user 1.39 s, sys: 572 ms, total: 1.96 s\n",
      "Wall time: 1.96 s\n"
     ]
    }
   ],
   "source": [
    "%%time\n",
    "_ = model.transform(corpus)"
   ]
  }
 ],
 "metadata": {
  "kernelspec": {
   "display_name": "Python 3",
   "language": "python",
   "name": "python3"
  },
  "language_info": {
   "codemirror_mode": {
    "name": "ipython",
    "version": 3
   },
   "file_extension": ".py",
   "mimetype": "text/x-python",
   "name": "python",
   "nbconvert_exporter": "python",
   "pygments_lexer": "ipython3",
   "version": "3.6.2"
  }
 },
 "nbformat": 4,
 "nbformat_minor": 2
}
