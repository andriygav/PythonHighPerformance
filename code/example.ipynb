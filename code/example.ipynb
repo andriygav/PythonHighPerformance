{
 "cells": [
  {
   "cell_type": "code",
   "execution_count": 1,
   "metadata": {},
   "outputs": [],
   "source": [
    "import Cython\n",
    "%load_ext Cython"
   ]
  },
  {
   "cell_type": "markdown",
   "metadata": {},
   "source": [
    "# Базовый пример использования Cython"
   ]
  },
  {
   "cell_type": "markdown",
   "metadata": {},
   "source": [
    "```Cython``` код с типизацией и без нее"
   ]
  },
  {
   "cell_type": "code",
   "execution_count": 2,
   "metadata": {},
   "outputs": [],
   "source": [
    "%%cython\n",
    "\n",
    "def CythonFunc(n):\n",
    "    a = 0\n",
    "    for _ in range(n):\n",
    "        a += 1\n",
    "    return a\n",
    "\n",
    "def CythonTypedFunc(int n):\n",
    "    cdef long ret = 0\n",
    "    for _ in range(n):\n",
    "        ret += 1\n",
    "    return ret"
   ]
  },
  {
   "cell_type": "code",
   "execution_count": 3,
   "metadata": {},
   "outputs": [],
   "source": [
    "def func(n):\n",
    "    a = 0\n",
    "    for _ in range(n):\n",
    "        a += 1\n",
    "    return a"
   ]
  },
  {
   "cell_type": "code",
   "execution_count": 4,
   "metadata": {},
   "outputs": [],
   "source": [
    "N = 1000\n",
    "K = 1000"
   ]
  },
  {
   "cell_type": "code",
   "execution_count": 5,
   "metadata": {},
   "outputs": [
    {
     "name": "stdout",
     "output_type": "stream",
     "text": [
      "CPU times: user 25.8 ms, sys: 598 µs, total: 26.4 ms\n",
      "Wall time: 26.1 ms\n"
     ]
    }
   ],
   "source": [
    "%%time\n",
    "answ = []\n",
    "for k in range(K):\n",
    "    answ.append(func(k))"
   ]
  },
  {
   "cell_type": "code",
   "execution_count": 6,
   "metadata": {},
   "outputs": [
    {
     "name": "stdout",
     "output_type": "stream",
     "text": [
      "CPU times: user 14.4 ms, sys: 236 µs, total: 14.6 ms\n",
      "Wall time: 14.7 ms\n"
     ]
    }
   ],
   "source": [
    "%%time\n",
    "answ = []\n",
    "for k in range(K):\n",
    "    answ.append(CythonFunc(k))"
   ]
  },
  {
   "cell_type": "code",
   "execution_count": 7,
   "metadata": {
    "scrolled": true
   },
   "outputs": [
    {
     "name": "stdout",
     "output_type": "stream",
     "text": [
      "CPU times: user 268 µs, sys: 28 µs, total: 296 µs\n",
      "Wall time: 329 µs\n"
     ]
    }
   ],
   "source": [
    "%%time\n",
    "answ = []\n",
    "for k in range(K):\n",
    "    answ.append(CythonTypedFunc(k))"
   ]
  },
  {
   "cell_type": "markdown",
   "metadata": {},
   "source": [
    "В данном тривиальном примере получаем следующее:\n",
    "\n",
    "| Функция  | Время |\n",
    "| ------------- | ------------- |\n",
    "| Python Func  | 27.3 ms  |\n",
    "| Cython Func  | 17.4 ms  |\n",
    "| Cython Typed Func  | 0.212 ms |\n"
   ]
  },
  {
   "cell_type": "code",
   "execution_count": null,
   "metadata": {},
   "outputs": [],
   "source": []
  }
 ],
 "metadata": {
  "kernelspec": {
   "display_name": "Python 3",
   "language": "python",
   "name": "python3"
  },
  "language_info": {
   "codemirror_mode": {
    "name": "ipython",
    "version": 3
   },
   "file_extension": ".py",
   "mimetype": "text/x-python",
   "name": "python",
   "nbconvert_exporter": "python",
   "pygments_lexer": "ipython3",
   "version": "3.6.2"
  }
 },
 "nbformat": 4,
 "nbformat_minor": 2
}
