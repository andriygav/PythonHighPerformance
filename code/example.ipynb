{
 "cells": [
  {
   "cell_type": "code",
   "execution_count": 1,
   "metadata": {},
   "outputs": [],
   "source": [
    "import Cython\n",
    "%load_ext Cython"
   ]
  },
  {
   "cell_type": "code",
   "execution_count": 2,
   "metadata": {},
   "outputs": [],
   "source": [
    "import numpy as np\n",
    "import re\n",
    "from tqdm import tqdm_notebook as tqdm"
   ]
  },
  {
   "cell_type": "code",
   "execution_count": 3,
   "metadata": {},
   "outputs": [],
   "source": [
    "with open('../data/wiki_short.txt', 'r') as f:\n",
    "    lines = f.read().lower().splitlines()"
   ]
  },
  {
   "cell_type": "code",
   "execution_count": 4,
   "metadata": {},
   "outputs": [
    {
     "name": "stderr",
     "output_type": "stream",
     "text": [
      "/home/local/AP-TEAM/grabovoy/WORKS/InternetDate/python_torch/lib/python3.6/site-packages/ipykernel_launcher.py:3: TqdmDeprecationWarning: This function will be removed in tqdm==5.0.0\n",
      "Please use `tqdm.notebook.tqdm` instead of `tqdm.tqdm_notebook`\n",
      "  This is separate from the ipykernel package so we can avoid doing imports until\n"
     ]
    },
    {
     "data": {
      "application/vnd.jupyter.widget-view+json": {
       "model_id": "e9eeabedac404e5bb3b26da11ef65004",
       "version_major": 2,
       "version_minor": 0
      },
      "text/plain": [
       "HBox(children=(FloatProgress(value=1.0, bar_style='info', max=1.0), HTML(value='')))"
      ]
     },
     "metadata": {},
     "output_type": "display_data"
    },
    {
     "name": "stdout",
     "output_type": "stream",
     "text": [
      "\n"
     ]
    }
   ],
   "source": [
    "corpus = []\n",
    "N = 3\n",
    "for i, line in tqdm(enumerate(lines)):\n",
    "    if i!=0 and i%N == 0:\n",
    "        temp_line = ' '.join(lines[len(corpus)*N:(len(corpus)+1)*N])\n",
    "        corpus.append(temp_line)"
   ]
  },
  {
   "cell_type": "code",
   "execution_count": 5,
   "metadata": {},
   "outputs": [],
   "source": [
    "%%cython --cplus\n",
    "from cython.parallel import prange\n",
    "from libcpp.vector cimport vector\n",
    "from libcpp.string cimport string\n",
    "from libc.stdlib cimport malloc, free\n",
    "from libcpp.set cimport set\n",
    "\n",
    "import numpy as np\n",
    "cimport numpy as np\n",
    "\n",
    "cdef extern from \"regex.h\" nogil:\n",
    "    ctypedef struct regmatch_t:\n",
    "        int rm_so\n",
    "        int rm_eo\n",
    "    ctypedef struct regex_t:\n",
    "        pass\n",
    "    int REG_EXTENDED\n",
    "    int regcomp(regex_t* preg, const char* regex, int cflags)\n",
    "    int regexec(const regex_t *preg, const char *string, size_t nmatch, regmatch_t pmatch[], int eflags)\n",
    "    void regfree(regex_t* preg) \n",
    "    \n",
    "cdef extern from \"<string.h>\" nogil:\n",
    "    char *strncpy (char *pto, const char *pfrom, size_t size)\n",
    "\n",
    "cdef class regex_cpp:\n",
    "    cdef regex_t regex_obj\n",
    "    \n",
    "    def __cinit__(self, char* regex):\n",
    "        regcomp(&self.regex_obj, regex, REG_EXTENDED)\n",
    "        \n",
    "    cdef vector[string] findall(self, char* stringbytes) nogil:\n",
    "        cdef regmatch_t regmatch_obj[1]\n",
    "        cdef vector[string] results\n",
    "        cdef int regex_res = 0\n",
    "        cdef int current_str_pos = 0\n",
    "        cdef char *substring\n",
    "        \n",
    "        regex_res = regexec(&self.regex_obj, stringbytes, 1, regmatch_obj, 0)\n",
    "        while regex_res == 0:\n",
    "            substring = <char *> malloc((regmatch_obj[0].rm_eo-regmatch_obj[0].rm_so+1) * sizeof(char))\n",
    "            substring[regmatch_obj[0].rm_eo-regmatch_obj[0].rm_so] = 0\n",
    "            strncpy(substring, stringbytes+current_str_pos+regmatch_obj[0].rm_so, regmatch_obj[0].rm_eo-regmatch_obj[0].rm_so)\n",
    "            \n",
    "            results.push_back(<string> substring)\n",
    "            \n",
    "            current_str_pos += regmatch_obj[0].rm_eo\n",
    "            regex_res = regexec(&self.regex_obj, stringbytes + current_str_pos, 1, regmatch_obj, 0)\n",
    "            \n",
    "        return results\n",
    "\n",
    "cpdef set[string] vectorize(str patern, list STRINGS):\n",
    "    cdef vector[string] results\n",
    "    cdef char* PAT = <char *> malloc((len(patern)+1) * sizeof(char))\n",
    "    PAT[len(patern)] = 0\n",
    "    \n",
    "    cdef string _str_patern = <string> patern.encode('utf-8')\n",
    "    \n",
    "    cdef vector[char*] cpp_words = [word.encode('utf-8') for word in STRINGS]\n",
    "    \n",
    "    reg = regex_cpp(PAT)\n",
    "    \n",
    "    cdef long i = 0\n",
    "    cdef long length = cpp_words.size()\n",
    "    \n",
    "    cdef set[string] answers\n",
    "    cdef long j = 0\n",
    "\n",
    "    for i in prange(length, nogil=True, num_threads=4):\n",
    "#     for i in range(length):\n",
    "        results = reg.findall(cpp_words[i])\n",
    "        for j in range(results.size()):\n",
    "            answers.insert(results[j])\n",
    "            \n",
    "    \n",
    "    return answers\n",
    "    \n",
    "    "
   ]
  },
  {
   "cell_type": "code",
   "execution_count": 6,
   "metadata": {},
   "outputs": [],
   "source": [
    "N = 10\n",
    "n = 0"
   ]
  },
  {
   "cell_type": "code",
   "execution_count": 7,
   "metadata": {},
   "outputs": [
    {
     "name": "stdout",
     "output_type": "stream",
     "text": [
      "CPU times: user 66 µs, sys: 16 µs, total: 82 µs\n",
      "Wall time: 70.1 µs\n"
     ]
    }
   ],
   "source": [
    "%%time\n",
    "ret = vectorize(\"\\w\\w+\", corpus[n:N])"
   ]
  },
  {
   "cell_type": "code",
   "execution_count": 8,
   "metadata": {},
   "outputs": [],
   "source": [
    "from sklearn.feature_extraction.text import CountVectorizer"
   ]
  },
  {
   "cell_type": "code",
   "execution_count": 9,
   "metadata": {},
   "outputs": [],
   "source": [
    "model = CountVectorizer()"
   ]
  },
  {
   "cell_type": "code",
   "execution_count": 10,
   "metadata": {},
   "outputs": [
    {
     "name": "stdout",
     "output_type": "stream",
     "text": [
      "CPU times: user 1.2 ms, sys: 329 µs, total: 1.53 ms\n",
      "Wall time: 1.38 ms\n"
     ]
    },
    {
     "data": {
      "text/plain": [
       "CountVectorizer(analyzer='word', binary=False, decode_error='strict',\n",
       "                dtype=<class 'numpy.int64'>, encoding='utf-8', input='content',\n",
       "                lowercase=True, max_df=1.0, max_features=None, min_df=1,\n",
       "                ngram_range=(1, 1), preprocessor=None, stop_words=None,\n",
       "                strip_accents=None, token_pattern='(?u)\\\\b\\\\w\\\\w+\\\\b',\n",
       "                tokenizer=None, vocabulary=None)"
      ]
     },
     "execution_count": 10,
     "metadata": {},
     "output_type": "execute_result"
    }
   ],
   "source": [
    "%%time\n",
    "model.fit(corpus[n:N])"
   ]
  },
  {
   "cell_type": "code",
   "execution_count": 11,
   "metadata": {},
   "outputs": [
    {
     "data": {
      "text/plain": [
       "263"
      ]
     },
     "execution_count": 11,
     "metadata": {},
     "output_type": "execute_result"
    }
   ],
   "source": [
    "len(model.get_feature_names())"
   ]
  },
  {
   "cell_type": "code",
   "execution_count": 12,
   "metadata": {},
   "outputs": [
    {
     "data": {
      "text/plain": [
       "0"
      ]
     },
     "execution_count": 12,
     "metadata": {},
     "output_type": "execute_result"
    }
   ],
   "source": [
    "len(ret)"
   ]
  },
  {
   "cell_type": "code",
   "execution_count": 13,
   "metadata": {},
   "outputs": [
    {
     "ename": "AttributeError",
     "evalue": "'set' object has no attribute 'keys'",
     "output_type": "error",
     "traceback": [
      "\u001b[0;31m---------------------------------------------------------------------------\u001b[0m",
      "\u001b[0;31mAttributeError\u001b[0m                            Traceback (most recent call last)",
      "\u001b[0;32m<ipython-input-13-a54a3b6bf04a>\u001b[0m in \u001b[0;36m<module>\u001b[0;34m\u001b[0m\n\u001b[0;32m----> 1\u001b[0;31m \u001b[0mset\u001b[0m\u001b[0;34m(\u001b[0m\u001b[0mret\u001b[0m\u001b[0;34m.\u001b[0m\u001b[0mkeys\u001b[0m\u001b[0;34m(\u001b[0m\u001b[0;34m)\u001b[0m\u001b[0;34m)\u001b[0m\u001b[0;34m.\u001b[0m\u001b[0mdifference\u001b[0m\u001b[0;34m(\u001b[0m\u001b[0mset\u001b[0m\u001b[0;34m(\u001b[0m\u001b[0mmodel\u001b[0m\u001b[0;34m.\u001b[0m\u001b[0mget_feature_names\u001b[0m\u001b[0;34m(\u001b[0m\u001b[0;34m)\u001b[0m\u001b[0;34m)\u001b[0m\u001b[0;34m)\u001b[0m\u001b[0;34m\u001b[0m\u001b[0;34m\u001b[0m\u001b[0m\n\u001b[0m",
      "\u001b[0;31mAttributeError\u001b[0m: 'set' object has no attribute 'keys'"
     ]
    }
   ],
   "source": [
    "set(ret.keys()).difference(set(model.get_feature_names()))"
   ]
  },
  {
   "cell_type": "code",
   "execution_count": null,
   "metadata": {},
   "outputs": [],
   "source": []
  }
 ],
 "metadata": {
  "kernelspec": {
   "display_name": "Python 3",
   "language": "python",
   "name": "python3"
  },
  "language_info": {
   "codemirror_mode": {
    "name": "ipython",
    "version": 3
   },
   "file_extension": ".py",
   "mimetype": "text/x-python",
   "name": "python",
   "nbconvert_exporter": "python",
   "pygments_lexer": "ipython3",
   "version": "3.6.9"
  }
 },
 "nbformat": 4,
 "nbformat_minor": 4
}
