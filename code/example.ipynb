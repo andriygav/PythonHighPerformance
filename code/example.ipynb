{
 "cells": [
  {
   "cell_type": "code",
   "execution_count": 1,
   "metadata": {},
   "outputs": [],
   "source": [
    "import Cython\n",
    "%load_ext Cython"
   ]
  },
  {
   "cell_type": "markdown",
   "metadata": {},
   "source": [
    "# Базовый пример использования Cython"
   ]
  },
  {
   "cell_type": "markdown",
   "metadata": {},
   "source": [
    "```Cython``` код с типизацией и без нее"
   ]
  },
  {
   "cell_type": "code",
   "execution_count": 2,
   "metadata": {},
   "outputs": [],
   "source": [
    "%%cython\n",
    "\n",
    "def CythonFunc(n):\n",
    "    a = 0\n",
    "    for _ in range(n):\n",
    "        a += 1\n",
    "    return a\n",
    "\n",
    "def CythonTypedFunc(int n):\n",
    "    cdef long ret = 0\n",
    "    for _ in range(n):\n",
    "        ret += 1\n",
    "    return ret"
   ]
  },
  {
   "cell_type": "code",
   "execution_count": 3,
   "metadata": {},
   "outputs": [],
   "source": [
    "def func(n):\n",
    "    a = 0\n",
    "    for _ in range(n):\n",
    "        a += 1\n",
    "    return a"
   ]
  },
  {
   "cell_type": "code",
   "execution_count": 4,
   "metadata": {},
   "outputs": [],
   "source": [
    "N = 1000\n",
    "K = 1000"
   ]
  },
  {
   "cell_type": "code",
   "execution_count": 5,
   "metadata": {},
   "outputs": [
    {
     "name": "stdout",
     "output_type": "stream",
     "text": [
      "CPU times: user 25.4 ms, sys: 606 µs, total: 26 ms\n",
      "Wall time: 25.8 ms\n"
     ]
    }
   ],
   "source": [
    "%%time\n",
    "answ = []\n",
    "for k in range(K):\n",
    "    answ.append(func(k))"
   ]
  },
  {
   "cell_type": "code",
   "execution_count": 6,
   "metadata": {},
   "outputs": [
    {
     "name": "stdout",
     "output_type": "stream",
     "text": [
      "CPU times: user 13.2 ms, sys: 154 µs, total: 13.3 ms\n",
      "Wall time: 13.5 ms\n"
     ]
    }
   ],
   "source": [
    "%%time\n",
    "answ = []\n",
    "for k in range(K):\n",
    "    answ.append(CythonFunc(k))"
   ]
  },
  {
   "cell_type": "code",
   "execution_count": 7,
   "metadata": {
    "scrolled": true
   },
   "outputs": [
    {
     "name": "stdout",
     "output_type": "stream",
     "text": [
      "CPU times: user 321 µs, sys: 22 µs, total: 343 µs\n",
      "Wall time: 388 µs\n"
     ]
    }
   ],
   "source": [
    "%%time\n",
    "answ = []\n",
    "for k in range(K):\n",
    "    answ.append(CythonTypedFunc(k))"
   ]
  },
  {
   "cell_type": "markdown",
   "metadata": {},
   "source": [
    "В данном тривиальном примере получаем следующее:\n",
    "\n",
    "| Функция  | Время |\n",
    "| ------------- | ------------- |\n",
    "| Python Func  | 27.3 ms  |\n",
    "| Cython Func  | 17.4 ms  |\n",
    "| Cython Typed Func  | 0.212 ms |\n"
   ]
  },
  {
   "cell_type": "markdown",
   "metadata": {},
   "source": [
    "# WordEmbeding"
   ]
  },
  {
   "cell_type": "markdown",
   "metadata": {},
   "source": [
    "## ```sklean```"
   ]
  },
  {
   "cell_type": "code",
   "execution_count": 8,
   "metadata": {},
   "outputs": [],
   "source": [
    "from sklearn.feature_extraction.text import CountVectorizer"
   ]
  },
  {
   "cell_type": "code",
   "execution_count": 9,
   "metadata": {},
   "outputs": [],
   "source": [
    "with open('./data/ru.tok', 'r') as f:\n",
    "    corpus = f.read().lower().splitlines()"
   ]
  },
  {
   "cell_type": "code",
   "execution_count": 10,
   "metadata": {},
   "outputs": [
    {
     "name": "stdout",
     "output_type": "stream",
     "text": [
      "CPU times: user 1.55 s, sys: 51.4 ms, total: 1.6 s\n",
      "Wall time: 1.64 s\n"
     ]
    }
   ],
   "source": [
    "%%time\n",
    "model = CountVectorizer()\n",
    "model.fit(corpus)"
   ]
  },
  {
   "cell_type": "code",
   "execution_count": 11,
   "metadata": {
    "scrolled": true
   },
   "outputs": [
    {
     "data": {
      "text/plain": [
       "76777"
      ]
     },
     "execution_count": 11,
     "metadata": {},
     "output_type": "execute_result"
    }
   ],
   "source": [
    "len(model.get_feature_names())"
   ]
  },
  {
   "cell_type": "markdown",
   "metadata": {},
   "source": [
    "## ```created```"
   ]
  },
  {
   "cell_type": "code",
   "execution_count": 12,
   "metadata": {},
   "outputs": [],
   "source": [
    "import re"
   ]
  },
  {
   "cell_type": "code",
   "execution_count": 18,
   "metadata": {},
   "outputs": [],
   "source": [
    "%%cython\n",
    "import re\n",
    "\n",
    "class Vectorizer:\n",
    "    def __init__(self):\n",
    "        self.NumOfWords = 0\n",
    "        self.WordToInt = dict()\n",
    "    \n",
    "    def split_sent(self, sent):\n",
    "        sent = re.sub('\\W', ' ', sent)\n",
    "        sent = re.sub('\\s+', ' ', sent).strip()\n",
    "        return sent.split(' ')\n",
    "    \n",
    "    def fit(self, corpus):\n",
    "        for sent in corpus:\n",
    "            words = self.split_sent(sent)\n",
    "            for word in words:\n",
    "                if word not in self.WordToInt:\n",
    "                    self.WordToInt[word] = self.NumOfWords\n",
    "                    self.NumOfWords += 1\n",
    "        return\n",
    "    \n",
    "    def get_feature_names(self):\n",
    "        return list(self.WordToInt.keys())\n",
    "    \n",
    "    def transform(self, corpus):\n",
    "        transformed = [[0 for _ in range(self.NumOfWords)] for _ in range(len(corpus))]\n",
    "        \n",
    "        for i, sent in enumerate(corpus):\n",
    "            words = self.split_sent(sent)\n",
    "            for word in words:\n",
    "                if word in self.WordToInt:\n",
    "                    transformed[i][self.WordToInt[word]] += 1\n",
    "                    \n",
    "        return transformed\n",
    "    \n",
    "    def fit_transform(self, corpus):\n",
    "        self.fit(corpus)\n",
    "        return self.transform(corpus)"
   ]
  },
  {
   "cell_type": "code",
   "execution_count": 19,
   "metadata": {},
   "outputs": [
    {
     "name": "stdout",
     "output_type": "stream",
     "text": [
      "CPU times: user 1.47 s, sys: 15.6 ms, total: 1.49 s\n",
      "Wall time: 1.5 s\n"
     ]
    }
   ],
   "source": [
    "%%time\n",
    "model = Vectorizer()\n",
    "model.fit(corpus)"
   ]
  },
  {
   "cell_type": "code",
   "execution_count": 20,
   "metadata": {},
   "outputs": [
    {
     "data": {
      "text/plain": [
       "76891"
      ]
     },
     "execution_count": 20,
     "metadata": {},
     "output_type": "execute_result"
    }
   ],
   "source": [
    "len(model.get_feature_names())"
   ]
  },
  {
   "cell_type": "code",
   "execution_count": null,
   "metadata": {},
   "outputs": [],
   "source": []
  }
 ],
 "metadata": {
  "kernelspec": {
   "display_name": "Python 3",
   "language": "python",
   "name": "python3"
  },
  "language_info": {
   "codemirror_mode": {
    "name": "ipython",
    "version": 3
   },
   "file_extension": ".py",
   "mimetype": "text/x-python",
   "name": "python",
   "nbconvert_exporter": "python",
   "pygments_lexer": "ipython3",
   "version": "3.6.2"
  }
 },
 "nbformat": 4,
 "nbformat_minor": 2
}
