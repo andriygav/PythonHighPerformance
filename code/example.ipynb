{
 "cells": [
  {
   "cell_type": "code",
   "execution_count": 1,
   "metadata": {},
   "outputs": [],
   "source": [
    "import Cython\n",
    "%load_ext Cython"
   ]
  },
  {
   "cell_type": "code",
   "execution_count": 2,
   "metadata": {},
   "outputs": [],
   "source": [
    "import time\n",
    "import numpy as np\n",
    "from tqdm import tqdm_notebook as tqdm"
   ]
  },
  {
   "cell_type": "markdown",
   "metadata": {},
   "source": [
    "# Базовый пример использования Cython\n",
    "В данном пункте приведем пример простой функции на языке python. В качестве функции рассматривалась функция, которая суммирует числа от $0$ до $N$. В эксперименте сравнивается скорость работы данной функции в следующих случаях: \n",
    "* функция реализована на python без предварительной компиляции; \n",
    "* реализована на python но предварительно скомпилирована;\n",
    "* реализована на cython с типизацией объектов."
   ]
  },
  {
   "cell_type": "markdown",
   "metadata": {},
   "source": [
    "## Модели"
   ]
  },
  {
   "cell_type": "code",
   "execution_count": 3,
   "metadata": {},
   "outputs": [],
   "source": [
    "%%cython\n",
    "\n",
    "def CythonFunc(N):\n",
    "    ret = 0\n",
    "    for n in range(N):\n",
    "        ret += n\n",
    "    return ret\n",
    "\n",
    "def CythonTypedFunc(int N):\n",
    "    cdef long ret = 0\n",
    "    cdef long n\n",
    "    for n in range(N):\n",
    "        ret += n\n",
    "    return ret"
   ]
  },
  {
   "cell_type": "code",
   "execution_count": 4,
   "metadata": {},
   "outputs": [],
   "source": [
    "def func(N):\n",
    "    ret = 0\n",
    "    for n in range(N):\n",
    "        ret += n\n",
    "    return ret"
   ]
  },
  {
   "cell_type": "markdown",
   "metadata": {},
   "source": [
    "## Comparison\n",
    "Для сравнения рассматривается $N = 10000000$ для всех моделей, а также каждая функция вызывается $200$ раз для усреднения результата."
   ]
  },
  {
   "cell_type": "code",
   "execution_count": 5,
   "metadata": {},
   "outputs": [],
   "source": [
    "N = 10000000\n",
    "number_of_experiment = 200"
   ]
  },
  {
   "cell_type": "markdown",
   "metadata": {},
   "source": [
    "#### Python Func\n",
    "Время работы функции для базовой реализации на python."
   ]
  },
  {
   "cell_type": "code",
   "execution_count": 6,
   "metadata": {},
   "outputs": [
    {
     "data": {
      "application/vnd.jupyter.widget-view+json": {
       "model_id": "9653b1dfdfc048fc86b3143a1ac43592",
       "version_major": 2,
       "version_minor": 0
      },
      "text/plain": [
       "HBox(children=(IntProgress(value=0, max=200), HTML(value='')))"
      ]
     },
     "metadata": {},
     "output_type": "display_data"
    },
    {
     "name": "stdout",
     "output_type": "stream",
     "text": [
      "\n"
     ]
    }
   ],
   "source": [
    "list_of_times = []\n",
    "############################################\n",
    "\n",
    "iterable = tqdm(range(number_of_experiment))\n",
    "for _ in iterable:\n",
    "    start = time.time()\n",
    "    func(N)\n",
    "    end = time.time()\n",
    "    \n",
    "    list_of_times.append(end-start)\n",
    "    \n",
    "    iterable.set_postfix_str('(time={})'.format(np.mean(list_of_times)))"
   ]
  },
  {
   "cell_type": "markdown",
   "metadata": {},
   "source": [
    "#### Cython Func\n",
    "Время работы скомпилированной программы на cython без добавления типизации объектов."
   ]
  },
  {
   "cell_type": "code",
   "execution_count": 7,
   "metadata": {},
   "outputs": [
    {
     "data": {
      "application/vnd.jupyter.widget-view+json": {
       "model_id": "3d436980dbcf44f9aeef262deb882673",
       "version_major": 2,
       "version_minor": 0
      },
      "text/plain": [
       "HBox(children=(IntProgress(value=0, max=200), HTML(value='')))"
      ]
     },
     "metadata": {},
     "output_type": "display_data"
    },
    {
     "name": "stdout",
     "output_type": "stream",
     "text": [
      "\n"
     ]
    }
   ],
   "source": [
    "list_of_times = []\n",
    "############################################\n",
    "\n",
    "iterable = tqdm(range(number_of_experiment))\n",
    "for _ in iterable:\n",
    "    start = time.time()\n",
    "    CythonFunc(N)\n",
    "    end = time.time()\n",
    "    \n",
    "    list_of_times.append(end-start)\n",
    "    \n",
    "    iterable.set_postfix_str('(time={})'.format(np.mean(list_of_times)))"
   ]
  },
  {
   "cell_type": "markdown",
   "metadata": {},
   "source": [
    "#### Cython Typed Func\n",
    "Время работы скомпилированной программы на cython c добавлениям типизации объектов."
   ]
  },
  {
   "cell_type": "code",
   "execution_count": 8,
   "metadata": {
    "scrolled": true
   },
   "outputs": [
    {
     "data": {
      "application/vnd.jupyter.widget-view+json": {
       "model_id": "d00f83effb554c21a149e28b68b1c93d",
       "version_major": 2,
       "version_minor": 0
      },
      "text/plain": [
       "HBox(children=(IntProgress(value=0, max=200), HTML(value='')))"
      ]
     },
     "metadata": {},
     "output_type": "display_data"
    },
    {
     "name": "stdout",
     "output_type": "stream",
     "text": [
      "\n"
     ]
    }
   ],
   "source": [
    "list_of_times = []\n",
    "############################################\n",
    "\n",
    "iterable = tqdm(range(number_of_experiment))\n",
    "for _ in iterable:\n",
    "    start = time.time()\n",
    "    ret = CythonTypedFunc(N)\n",
    "    end = time.time()\n",
    "    \n",
    "    list_of_times.append(end-start)\n",
    "    \n",
    "    iterable.set_postfix_str('(time={})'.format(np.mean(list_of_times)))"
   ]
  },
  {
   "cell_type": "markdown",
   "metadata": {},
   "source": [
    "В данном тривиальном примере получаем следующее:\n",
    "\n",
    "| Функция  | Время |\n",
    "| ------------- | ------------- |\n",
    "| Python Func  | 583 ms  |\n",
    "| Cython Func  | 435 ms  |\n",
    "| Cython Typed Func  | 0.151 ms |\n"
   ]
  },
  {
   "cell_type": "markdown",
   "metadata": {},
   "source": [
    "# NumPy in Cython"
   ]
  },
  {
   "cell_type": "code",
   "execution_count": 9,
   "metadata": {},
   "outputs": [],
   "source": [
    "%%cython\n",
    "import numpy as np\n",
    "cimport numpy as np\n",
    "np.import_array()\n",
    "\n",
    "cpdef return_zeros():\n",
    "    return np.zeros([10, 15], dtype=np.int32)\n",
    "\n",
    "cpdef return_empty():\n",
    "    cdef np.npy_intp dims[2]\n",
    "    dims[0] = 10\n",
    "    dims[1] = 15\n",
    "    cdef np.ndarray data = np.PyArray_SimpleNew(2, dims, np.NPY_INT32)\n",
    "    np.PyArray_FILLWBYTE(data, 0)\n",
    "    return data"
   ]
  },
  {
   "cell_type": "markdown",
   "metadata": {},
   "source": [
    "# WordEmbeding [CountVectorizer]"
   ]
  },
  {
   "cell_type": "markdown",
   "metadata": {},
   "source": [
    "## Data"
   ]
  },
  {
   "cell_type": "code",
   "execution_count": 10,
   "metadata": {},
   "outputs": [],
   "source": [
    "from sklearn.feature_extraction.text import CountVectorizer"
   ]
  },
  {
   "cell_type": "code",
   "execution_count": 11,
   "metadata": {},
   "outputs": [],
   "source": [
    "import re\n",
    "import numpy as np"
   ]
  },
  {
   "cell_type": "code",
   "execution_count": 12,
   "metadata": {},
   "outputs": [],
   "source": [
    "with open('./data/ru.tok', 'r') as f:\n",
    "    corpus = f.read().lower().splitlines()"
   ]
  },
  {
   "cell_type": "markdown",
   "metadata": {},
   "source": [
    "## Models"
   ]
  },
  {
   "cell_type": "markdown",
   "metadata": {},
   "source": [
    "### Python Vectorizer"
   ]
  },
  {
   "cell_type": "code",
   "execution_count": 13,
   "metadata": {},
   "outputs": [],
   "source": [
    "token_pattern = re.compile(r\"(?u)\\b\\w\\w+\\b\")\n",
    "class Vectorizer:\n",
    "    def __init__(self):\n",
    "        self.WordToInt = dict()\n",
    "        pass\n",
    "    \n",
    "    def split_sent(self, sent):\n",
    "        return token_pattern.findall(sent)\n",
    "    \n",
    "    def _fit(self, corpus):\n",
    "        for sent in corpus:\n",
    "            words = self.split_sent(sent)\n",
    "            for word in words:\n",
    "                if word not in self.WordToInt:\n",
    "                    self.WordToInt[word] = len(self.WordToInt)\n",
    "        return\n",
    "    \n",
    "    def fit(self, corpus):\n",
    "        return self._fit(corpus)\n",
    "    \n",
    "    def get_feature_names(self):\n",
    "        return list(self.WordToInt.keys())\n",
    "    \n",
    "    def _transform(self, corpus):\n",
    "        transformed = np.zeros([len(corpus), len(self.WordToInt)], dtype=np.int64)\n",
    "        for i, sent in enumerate(corpus):\n",
    "            words = self.split_sent(sent)\n",
    "            row = transformed[i]\n",
    "            LocalVocab = dict()\n",
    "            for word in words:\n",
    "                if word in self.WordToInt:\n",
    "                    ind = self.WordToInt[word]\n",
    "                    if ind not in LocalVocab:\n",
    "                        LocalVocab[ind] = 1\n",
    "                    else:\n",
    "                        LocalVocab[ind] += 1\n",
    "                    \n",
    "            for ind in LocalVocab:\n",
    "                row[ind]=LocalVocab[ind];\n",
    "                    \n",
    "        return transformed\n",
    "    \n",
    "    def transform(self, corpus):\n",
    "        return self._transform(corpus)\n",
    "    \n",
    "    def fit_transform(self, corpus):\n",
    "        self._fit(corpus)\n",
    "        return self._transform(corpus)"
   ]
  },
  {
   "cell_type": "markdown",
   "metadata": {},
   "source": [
    "### Cython Vectorizer and Cython+Typed Vectorizer"
   ]
  },
  {
   "cell_type": "code",
   "execution_count": 14,
   "metadata": {},
   "outputs": [],
   "source": [
    "%%cython\n",
    "import re\n",
    "import numpy as np\n",
    "cimport numpy as np\n",
    "np.import_array()\n",
    "\n",
    "token_pattern = re.compile(r\"(?u)\\b\\w\\w+\\b\")\n",
    "\n",
    "class CythonVectorizer:\n",
    "    def __init__(self):\n",
    "        self.WordToInt = dict()\n",
    "        pass\n",
    "    \n",
    "    def split_sent(self, sent):\n",
    "        return token_pattern.findall(sent)\n",
    "    \n",
    "    def fit(self, corpus):\n",
    "        for sent in corpus:\n",
    "            words = self.split_sent(sent)\n",
    "            for word in words:\n",
    "                if word not in self.WordToInt:\n",
    "                    self.WordToInt[word] = len(self.WordToInt)\n",
    "        return\n",
    "    \n",
    "    def get_feature_names(self):\n",
    "        return list(self.WordToInt.keys())\n",
    "    \n",
    "    def transform(self, corpus):\n",
    "        transformed = np.zeros([len(corpus), len(self.WordToInt)], dtype=np.int64)\n",
    "        for i, sent in enumerate(corpus):\n",
    "            words = self.split_sent(sent)\n",
    "            row = transformed[i]\n",
    "            LocalVocab = dict()\n",
    "            for word in words:\n",
    "                if word in self.WordToInt:\n",
    "                    ind = self.WordToInt[word]\n",
    "                    if ind not in LocalVocab:\n",
    "                        LocalVocab[ind] = 1\n",
    "                    else:\n",
    "                        LocalVocab[ind] += 1\n",
    "                    \n",
    "            for ind in LocalVocab:\n",
    "                row[ind]=LocalVocab[ind];\n",
    "                    \n",
    "        return transformed\n",
    "    \n",
    "    def fit_transform(self, corpus):\n",
    "        self._fit(corpus)\n",
    "        return self._transform(corpus)\n",
    "\n",
    "\n",
    "\n",
    "\n",
    "cdef class CythonTypedVectorizer:\n",
    "    cdef dict WordToInt\n",
    "    def __cinit__(self):\n",
    "        self.WordToInt = dict()\n",
    "        pass\n",
    "        \n",
    "    cdef list split_sent(self, str sent):\n",
    "        return token_pattern.findall(sent)\n",
    "    \n",
    "    cpdef void fit(self, list corpus):\n",
    "        cdef str word, sent\n",
    "        cdef list words\n",
    "        for sent in corpus:\n",
    "            words = self.split_sent(sent)\n",
    "            for word in words:\n",
    "                if word not in self.WordToInt:\n",
    "                    self.WordToInt[word] = len(self.WordToInt)\n",
    "        return\n",
    "    \n",
    "    def get_feature_names(self):\n",
    "        return list(self.WordToInt.keys())\n",
    "    \n",
    "    cpdef np.ndarray transform(self, list corpus):\n",
    "        cdef np.ndarray row\n",
    "        cdef dict LocalVocab\n",
    "        cdef str word, sent\n",
    "        cdef int i, ind\n",
    "        cdef list words\n",
    "        cdef np.ndarray transformed = np.zeros([len(corpus), len(self.WordToInt)], dtype=np.int64)\n",
    "        for i, sent in enumerate(corpus):\n",
    "            words = self.split_sent(sent)\n",
    "            row = transformed[i]\n",
    "            LocalVocab = dict()\n",
    "            for word in words:\n",
    "                if word in self.WordToInt:\n",
    "                    ind = self.WordToInt[word]\n",
    "                    if ind not in LocalVocab:\n",
    "                        LocalVocab[ind] = 1\n",
    "                    else:\n",
    "                        LocalVocab[ind] += 1\n",
    "                    \n",
    "            for ind in LocalVocab:\n",
    "                row[ind]=LocalVocab[ind];\n",
    "                    \n",
    "        return transformed\n",
    "    \n",
    "    def fit_transform(self, list corpus):\n",
    "        self._fit(corpus)\n",
    "        return self._transform(corpus)"
   ]
  },
  {
   "cell_type": "markdown",
   "metadata": {},
   "source": [
    "## Comparison "
   ]
  },
  {
   "cell_type": "code",
   "execution_count": 15,
   "metadata": {},
   "outputs": [],
   "source": [
    "number_of_experiment = 200"
   ]
  },
  {
   "cell_type": "markdown",
   "metadata": {},
   "source": [
    "#### Sklearn"
   ]
  },
  {
   "cell_type": "code",
   "execution_count": 16,
   "metadata": {},
   "outputs": [
    {
     "data": {
      "application/vnd.jupyter.widget-view+json": {
       "model_id": "82058771e27b471d9870d58f54f30634",
       "version_major": 2,
       "version_minor": 0
      },
      "text/plain": [
       "HBox(children=(IntProgress(value=0, max=200), HTML(value='')))"
      ]
     },
     "metadata": {},
     "output_type": "display_data"
    },
    {
     "name": "stdout",
     "output_type": "stream",
     "text": [
      "\n"
     ]
    }
   ],
   "source": [
    "list_of_fit_times = []\n",
    "list_of_transform_times = []\n",
    "############################################\n",
    "\n",
    "iterable = tqdm(range(number_of_experiment))\n",
    "for _ in iterable:\n",
    "    model = CountVectorizer()\n",
    "    \n",
    "    start = time.time()\n",
    "    model.fit(corpus)\n",
    "    end = time.time()\n",
    "    \n",
    "    list_of_fit_times.append(end-start)\n",
    "    \n",
    "    start = time.time()\n",
    "    _ = model.transform(corpus).toarray()\n",
    "    end = time.time()\n",
    "    \n",
    "    list_of_transform_times.append(end-start)\n",
    "    \n",
    "    iterable.set_postfix_str('(fit={}, transform={})'.format(np.mean(list_of_fit_times), np.mean(list_of_transform_times)))"
   ]
  },
  {
   "cell_type": "markdown",
   "metadata": {},
   "source": [
    "#### Python Vectorizer"
   ]
  },
  {
   "cell_type": "code",
   "execution_count": 17,
   "metadata": {},
   "outputs": [
    {
     "data": {
      "application/vnd.jupyter.widget-view+json": {
       "model_id": "c75cdcfd8ed148e39ee421c1e48d8230",
       "version_major": 2,
       "version_minor": 0
      },
      "text/plain": [
       "HBox(children=(IntProgress(value=0, max=200), HTML(value='')))"
      ]
     },
     "metadata": {},
     "output_type": "display_data"
    },
    {
     "name": "stdout",
     "output_type": "stream",
     "text": [
      "\n"
     ]
    }
   ],
   "source": [
    "list_of_fit_times = []\n",
    "list_of_transform_times = []\n",
    "############################################\n",
    "\n",
    "iterable = tqdm(range(number_of_experiment))\n",
    "for _ in iterable:\n",
    "    model = Vectorizer()\n",
    "    \n",
    "    start = time.time()\n",
    "    model.fit(corpus)\n",
    "    end = time.time()\n",
    "    \n",
    "    list_of_fit_times.append(end-start)\n",
    "    \n",
    "    start = time.time()\n",
    "    _ = model.transform(corpus)\n",
    "    \n",
    "    end = time.time()\n",
    "    \n",
    "    list_of_transform_times.append(end-start)\n",
    "    \n",
    "    iterable.set_postfix_str('(fit={}, transform={})'.format(np.mean(list_of_fit_times), np.mean(list_of_transform_times)))"
   ]
  },
  {
   "cell_type": "markdown",
   "metadata": {},
   "source": [
    "#### Cython Vectorizer without Typing"
   ]
  },
  {
   "cell_type": "code",
   "execution_count": 18,
   "metadata": {},
   "outputs": [
    {
     "data": {
      "application/vnd.jupyter.widget-view+json": {
       "model_id": "0770509cb6d64dc19a5bbb8c93996d13",
       "version_major": 2,
       "version_minor": 0
      },
      "text/plain": [
       "HBox(children=(IntProgress(value=0, max=200), HTML(value='')))"
      ]
     },
     "metadata": {},
     "output_type": "display_data"
    },
    {
     "name": "stdout",
     "output_type": "stream",
     "text": [
      "\n"
     ]
    }
   ],
   "source": [
    "list_of_fit_times = []\n",
    "list_of_transform_times = []\n",
    "############################################\n",
    "\n",
    "iterable = tqdm(range(number_of_experiment))\n",
    "for _ in iterable:\n",
    "    model = CythonVectorizer()\n",
    "    \n",
    "    start = time.time()\n",
    "    model.fit(corpus)\n",
    "    end = time.time()\n",
    "    \n",
    "    list_of_fit_times.append(end-start)\n",
    "    \n",
    "    start = time.time()\n",
    "    _ = model.transform(corpus)\n",
    "    end = time.time()\n",
    "    \n",
    "    list_of_transform_times.append(end-start)\n",
    "    \n",
    "    iterable.set_postfix_str('(fit={}, transform={})'.format(np.mean(list_of_fit_times), np.mean(list_of_transform_times)))"
   ]
  },
  {
   "cell_type": "markdown",
   "metadata": {},
   "source": [
    "#### Cython Vectorizer with Typing"
   ]
  },
  {
   "cell_type": "code",
   "execution_count": 19,
   "metadata": {},
   "outputs": [
    {
     "data": {
      "application/vnd.jupyter.widget-view+json": {
       "model_id": "0e607e6985b34366a332dfd6ef839bb8",
       "version_major": 2,
       "version_minor": 0
      },
      "text/plain": [
       "HBox(children=(IntProgress(value=0, max=200), HTML(value='')))"
      ]
     },
     "metadata": {},
     "output_type": "display_data"
    },
    {
     "name": "stdout",
     "output_type": "stream",
     "text": [
      "\n"
     ]
    }
   ],
   "source": [
    "list_of_fit_times = []\n",
    "list_of_transform_times = []\n",
    "############################################\n",
    "\n",
    "iterable = tqdm(range(number_of_experiment))\n",
    "for _ in iterable:\n",
    "    model = CythonTypedVectorizer()\n",
    "    \n",
    "    start = time.time()\n",
    "    model.fit(corpus)\n",
    "    end = time.time()\n",
    "    \n",
    "    list_of_fit_times.append(end-start)\n",
    "    \n",
    "    start = time.time()\n",
    "    _ = model.transform(corpus)\n",
    "    end = time.time()\n",
    "    \n",
    "    list_of_transform_times.append(end-start)\n",
    "    \n",
    "    iterable.set_postfix_str('(fit={}, transform={})'.format(np.mean(list_of_fit_times), np.mean(list_of_transform_times)))"
   ]
  },
  {
   "cell_type": "markdown",
   "metadata": {},
   "source": [
    "Оценка времени выполнялась для выборки, которая состояла из $79582$ строк ($16.8$mb текста). Всего в данном тексте содержится $76777$ различных токенов, которые были найдены всемы моделями и добавлены в словарь.\n",
    "\n",
    "\n",
    "Для чистоты эксперимента время предаставленное в таблице является устредненным по $200$ вызовам функции ```fit``` и $200$ вызовам функции ```transform```.\n",
    "\n",
    "| Функция  | Время fit | Время transform |\n",
    "| ------------- | ------------- | ------------- |\n",
    "| CountVectorizer  | 1401 ms  | 2521 ms |\n",
    "| Python Vectorizer  | 623 ms | 2152 ms |\n",
    "| Cython Vectorizer  | 570 ms | 1935 ms |\n",
    "| CythonTyped Vectorizer  | 532 ms | 1868 ms |\n",
    "\n"
   ]
  },
  {
   "cell_type": "code",
   "execution_count": null,
   "metadata": {},
   "outputs": [],
   "source": []
  }
 ],
 "metadata": {
  "kernelspec": {
   "display_name": "Python 3",
   "language": "python",
   "name": "python3"
  },
  "language_info": {
   "codemirror_mode": {
    "name": "ipython",
    "version": 3
   },
   "file_extension": ".py",
   "mimetype": "text/x-python",
   "name": "python",
   "nbconvert_exporter": "python",
   "pygments_lexer": "ipython3",
   "version": "3.6.2"
  }
 },
 "nbformat": 4,
 "nbformat_minor": 2
}
