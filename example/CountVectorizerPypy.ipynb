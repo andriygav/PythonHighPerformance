{
 "cells": [
  {
   "cell_type": "code",
   "execution_count": 1,
   "metadata": {},
   "outputs": [],
   "source": [
    "import time\n",
    "import numpy as np\n",
    "from tqdm import tqdm_notebook as tqdm"
   ]
  },
  {
   "cell_type": "markdown",
   "metadata": {},
   "source": [
    "# WordEmbeding [CountVectorizer]\n",
    "В данном пункте сравним скорости работы простого векторного представления предложений. В качестве базового решения выбран ```CountVectorizer``` из пакета ```sklearn```.\n",
    "\n",
    "На основе ```CountVectorizer``` был написан сообвественый класс ```Vectorizer``` на python. Данный класс повторяет базовые возможности класса ```CountVectorizer```, такие как ```fit``` и ```transform```.\n",
    "\n",
    "Сревнение производительности проводится для класса ```Vectorizer``` который работает в следующих случаях:\n",
    "* Простая реализация на pypy3;\n",
    "* Простая реалзиция на python без компиляции;\n",
    "* Простая компиляция класса без использования типизации;\n",
    "* Компиляция класса ```Vectorizer``` с использованием типизации данных."
   ]
  },
  {
   "cell_type": "markdown",
   "metadata": {},
   "source": [
    "## Data"
   ]
  },
  {
   "cell_type": "code",
   "execution_count": 2,
   "metadata": {},
   "outputs": [],
   "source": [
    "import re\n",
    "import numpy as np"
   ]
  },
  {
   "cell_type": "code",
   "execution_count": 3,
   "metadata": {},
   "outputs": [],
   "source": [
    "with open('../data/ru.tok', 'r') as f:\n",
    "    corpus = f.read().lower().splitlines()"
   ]
  },
  {
   "cell_type": "markdown",
   "metadata": {},
   "source": [
    "## Models"
   ]
  },
  {
   "cell_type": "markdown",
   "metadata": {},
   "source": [
    "### Python Vectorizer\n",
    "Данная модель ```Vectorizer``` построенна для повторения базовой функциональности ```CountVectorizer```. В качестве поиска токенов используется такое же регулярное выражение как и в случае дефолтного запуска ```CountVectorizer```."
   ]
  },
  {
   "cell_type": "code",
   "execution_count": 4,
   "metadata": {},
   "outputs": [],
   "source": [
    "token_pattern = re.compile(r\"(?u)\\b\\w\\w+\\b\")\n",
    "class VectorizerPypy:\n",
    "    def __init__(self):\n",
    "        self.WordToInt = dict()\n",
    "        pass\n",
    "    \n",
    "    def split_sent(self, sent):\n",
    "        return token_pattern.findall(sent)\n",
    "    \n",
    "    def fit(self, corpus):\n",
    "        for sent in corpus:\n",
    "            words = self.split_sent(sent)\n",
    "            for word in words:\n",
    "                if word not in self.WordToInt:\n",
    "                    self.WordToInt[word] = len(self.WordToInt)\n",
    "        return\n",
    "\n",
    "    def get_feature_names(self):\n",
    "        return list(self.WordToInt.keys())\n",
    "    \n",
    "    def transform(self, corpus):\n",
    "        transformed = np.zeros([len(corpus), len(self.WordToInt)], dtype=np.int64)\n",
    "        for i, sent in enumerate(corpus):\n",
    "            words = self.split_sent(sent)\n",
    "            row = transformed[i]\n",
    "            LocalVocab = dict()\n",
    "            for word in words:\n",
    "                if word in self.WordToInt:\n",
    "                    ind = self.WordToInt[word]\n",
    "                    if ind not in LocalVocab:\n",
    "                        LocalVocab[ind] = 1\n",
    "                    else:\n",
    "                        LocalVocab[ind] += 1\n",
    "                    \n",
    "            for ind in LocalVocab:\n",
    "                row[ind]=LocalVocab[ind];\n",
    "                    \n",
    "        return transformed\n",
    "    \n",
    "    def fit_transform(self, corpus):\n",
    "        self._fit(corpus)\n",
    "        return self._transform(corpus)"
   ]
  },
  {
   "cell_type": "markdown",
   "metadata": {},
   "source": [
    "## Comparison\n",
    "В эксперименте сравнивается время метода ```fit```, а также метода ```transform``` для всех моделей. Для оценки времени производится усреднение по нескольким независимым вызовам данных методов. Каждый раз вызов метода ```fit``` производится на новом объекте рассматриваемого класса. Метод ```transform``` вызывается также каждый раз на новом объекте рассматриваемого класса после вызова метода ```fit```."
   ]
  },
  {
   "cell_type": "code",
   "execution_count": 5,
   "metadata": {},
   "outputs": [],
   "source": [
    "number_of_experiment = 200"
   ]
  },
  {
   "cell_type": "markdown",
   "metadata": {},
   "source": [
    "#### Python Vectorizer\n",
    "Реализация дефолтного ```CountVectorizer``` на python без компиляциии кода."
   ]
  },
  {
   "cell_type": "code",
   "execution_count": 6,
   "metadata": {},
   "outputs": [
    {
     "name": "stderr",
     "output_type": "stream",
     "text": [
      "/usr/local/Cellar/pypy3/7.3.0/libexec/site-packages/ipykernel_launcher.py:5: TqdmDeprecationWarning: This function will be removed in tqdm==5.0.0\n",
      "Please use `tqdm.notebook.tqdm` instead of `tqdm.tqdm_notebook`\n",
      "  \"\"\"\n"
     ]
    },
    {
     "data": {
      "application/vnd.jupyter.widget-view+json": {
       "model_id": "b822ef1a56d74190aac02a102db5a026",
       "version_major": 2,
       "version_minor": 0
      },
      "text/plain": [
       "HBox(children=(FloatProgress(value=0.0, max=200.0), HTML(value='')))"
      ]
     },
     "metadata": {},
     "output_type": "display_data"
    },
    {
     "name": "stdout",
     "output_type": "stream",
     "text": [
      "\n",
      "(fit=0.37626678109169004, transform=3.1669243133068083)\n"
     ]
    }
   ],
   "source": [
    "list_of_fit_times = []\n",
    "list_of_transform_times = []\n",
    "############################################\n",
    "\n",
    "iterable = tqdm(range(number_of_experiment))\n",
    "for _ in iterable:\n",
    "    model = VectorizerPypy()\n",
    "    \n",
    "    start = time.time()\n",
    "    model.fit(corpus)\n",
    "    end = time.time()\n",
    "    \n",
    "    list_of_fit_times.append(end-start)\n",
    "    \n",
    "    start = time.time()\n",
    "    _ = model.transform(corpus)\n",
    "    end = time.time()\n",
    "    \n",
    "    list_of_transform_times.append(end-start)\n",
    "    \n",
    "    iterable.set_postfix_str('(fit={}, transform={})'.format(np.mean(list_of_fit_times), np.mean(list_of_transform_times)))\n",
    "\n",
    "print('(fit={}, transform={})'.format(np.mean(list_of_fit_times), np.mean(list_of_transform_times)))"
   ]
  },
  {
   "cell_type": "markdown",
   "metadata": {},
   "source": [
    "## Result"
   ]
  },
  {
   "cell_type": "markdown",
   "metadata": {},
   "source": [
    "Оценка времени выполнялась для выборки, которая состояла из $79582$ строк ($16.8$mb текста). Всего в данном тексте содержится $76777$ различных токенов, которые были найдены всемы моделями и добавлены в словарь.\n",
    "\n",
    "\n",
    "Для чистоты эксперимента время предаставленное в таблице является устредненным по $200$ вызовам функции ```fit``` и $200$ вызовам функции ```transform```.\n",
    "\n",
    "| Функция  | Время fit | Время transform |\n",
    "| ------------- | ------------- | ------------- |\n",
    "| VectorizerPypy  | 376 ms | 3167 ms |\n",
    "\n"
   ]
  }
 ],
 "metadata": {
  "kernelspec": {
   "display_name": "Python 3",
   "language": "python",
   "name": "python3"
  },
  "language_info": {
   "codemirror_mode": {
    "name": "ipython",
    "version": 3
   },
   "file_extension": ".py",
   "mimetype": "text/x-python",
   "name": "python",
   "nbconvert_exporter": "python",
   "pygments_lexer": "ipython3",
   "version": "3.6.9"
  }
 },
 "nbformat": 4,
 "nbformat_minor": 2
}
