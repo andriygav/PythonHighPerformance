{
 "cells": [
  {
   "cell_type": "code",
   "execution_count": 1,
   "metadata": {},
   "outputs": [],
   "source": [
    "import Cython\n",
    "%load_ext Cython"
   ]
  },
  {
   "cell_type": "code",
   "execution_count": 2,
   "metadata": {},
   "outputs": [],
   "source": [
    "import time\n",
    "import numpy as np\n",
    "from tqdm import tqdm_notebook as tqdm"
   ]
  },
  {
   "cell_type": "markdown",
   "metadata": {},
   "source": [
    "# WordEmbeding [CountVectorizer]\n",
    "В данном пункте сравним скорости работы простого векторного представления предложений. В качестве базового решения выбран ```CountVectorizer``` из пакета ```sklearn```.\n",
    "\n",
    "На основе ```CountVectorizer``` был написан сообвественый класс ```Vectorizer``` на python. Данный класс повторяет базовые возможности класса ```CountVectorizer```, такие как ```fit``` и ```transform```.\n",
    "\n",
    "Сревнение производительности проводится для класса ```Vectorizer``` который работает в следующих случаях:\n",
    "* Простая реализация на pypy3;\n",
    "* Простая реалзиция на python без компиляции;\n",
    "* Простая компиляция класса без использования типизации;\n",
    "* Компиляция класса ```Vectorizer``` с использованием типизации данных."
   ]
  },
  {
   "cell_type": "markdown",
   "metadata": {},
   "source": [
    "## Data"
   ]
  },
  {
   "cell_type": "code",
   "execution_count": 10,
   "metadata": {},
   "outputs": [],
   "source": [
    "import re\n",
    "import numpy as np\n",
    "from sklearn.feature_extraction.text import CountVectorizer"
   ]
  },
  {
   "cell_type": "code",
   "execution_count": 11,
   "metadata": {},
   "outputs": [],
   "source": [
    "with open('../data/ru.tok', 'r') as f:\n",
    "    corpus = f.read().lower().splitlines()"
   ]
  },
  {
   "cell_type": "markdown",
   "metadata": {},
   "source": [
    "## Models"
   ]
  },
  {
   "cell_type": "markdown",
   "metadata": {},
   "source": [
    "### Python Vectorizer\n",
    "Данная модель ```Vectorizer``` построенна для повторения базовой функциональности ```CountVectorizer```. В качестве поиска токенов используется такое же регулярное выражение как и в случае дефолтного запуска ```CountVectorizer```."
   ]
  },
  {
   "cell_type": "code",
   "execution_count": 12,
   "metadata": {},
   "outputs": [],
   "source": [
    "token_pattern = re.compile(r\"(?u)\\b\\w\\w+\\b\")\n",
    "class Vectorizer:\n",
    "    def __init__(self):\n",
    "        self.WordToInt = dict()\n",
    "        pass\n",
    "    \n",
    "    def split_sent(self, sent):\n",
    "        return token_pattern.findall(sent)\n",
    "    \n",
    "    def _fit(self, corpus):\n",
    "        for sent in corpus:\n",
    "            words = self.split_sent(sent)\n",
    "            for word in words:\n",
    "                if word not in self.WordToInt:\n",
    "                    self.WordToInt[word] = len(self.WordToInt)\n",
    "        return\n",
    "    \n",
    "    def fit(self, corpus):\n",
    "        return self._fit(corpus)\n",
    "    \n",
    "    def get_feature_names(self):\n",
    "        return list(self.WordToInt.keys())\n",
    "    \n",
    "    def _transform(self, corpus):\n",
    "        transformed = np.zeros([len(corpus), len(self.WordToInt)], dtype=np.int64)\n",
    "        for i, sent in enumerate(corpus):\n",
    "            words = self.split_sent(sent)\n",
    "            row = transformed[i]\n",
    "            LocalVocab = dict()\n",
    "            for word in words:\n",
    "                if word in self.WordToInt:\n",
    "                    ind = self.WordToInt[word]\n",
    "                    if ind not in LocalVocab:\n",
    "                        LocalVocab[ind] = 1\n",
    "                    else:\n",
    "                        LocalVocab[ind] += 1\n",
    "                    \n",
    "            for ind in LocalVocab:\n",
    "                row[ind]=LocalVocab[ind];\n",
    "                    \n",
    "        return transformed\n",
    "    \n",
    "    def transform(self, corpus):\n",
    "        return self._transform(corpus)\n",
    "    \n",
    "    def fit_transform(self, corpus):\n",
    "        self._fit(corpus)\n",
    "        return self._transform(corpus)"
   ]
  },
  {
   "cell_type": "markdown",
   "metadata": {},
   "source": [
    "### Cython Vectorizer and Cython+Typed Vectorizer"
   ]
  },
  {
   "cell_type": "code",
   "execution_count": 13,
   "metadata": {},
   "outputs": [],
   "source": [
    "%%cython\n",
    "import re\n",
    "import numpy as np\n",
    "cimport numpy as np\n",
    "np.import_array()\n",
    "\n",
    "token_pattern = re.compile(r\"(?u)\\b\\w\\w+\\b\")\n",
    "\n",
    "class CythonVectorizer:\n",
    "    def __init__(self):\n",
    "        self.WordToInt = dict()\n",
    "        pass\n",
    "    \n",
    "    def split_sent(self, sent):\n",
    "        return token_pattern.findall(sent)\n",
    "    \n",
    "    def fit(self, corpus):\n",
    "        for sent in corpus:\n",
    "            words = self.split_sent(sent)\n",
    "            for word in words:\n",
    "                if word not in self.WordToInt:\n",
    "                    self.WordToInt[word] = len(self.WordToInt)\n",
    "        return\n",
    "    \n",
    "    def get_feature_names(self):\n",
    "        return list(self.WordToInt.keys())\n",
    "    \n",
    "    def transform(self, corpus):\n",
    "        transformed = np.zeros([len(corpus), len(self.WordToInt)], dtype=np.int64)\n",
    "        for i, sent in enumerate(corpus):\n",
    "            words = self.split_sent(sent)\n",
    "            row = transformed[i]\n",
    "            LocalVocab = dict()\n",
    "            for word in words:\n",
    "                if word in self.WordToInt:\n",
    "                    ind = self.WordToInt[word]\n",
    "                    if ind not in LocalVocab:\n",
    "                        LocalVocab[ind] = 1\n",
    "                    else:\n",
    "                        LocalVocab[ind] += 1\n",
    "                    \n",
    "            for ind in LocalVocab:\n",
    "                row[ind]=LocalVocab[ind];\n",
    "                    \n",
    "        return transformed\n",
    "    \n",
    "    def fit_transform(self, corpus):\n",
    "        self._fit(corpus)\n",
    "        return self._transform(corpus)\n",
    "\n",
    "\n",
    "\n",
    "\n",
    "cdef class CythonTypedVectorizer:\n",
    "    cdef dict WordToInt\n",
    "    def __cinit__(self):\n",
    "        self.WordToInt = dict()\n",
    "        pass\n",
    "        \n",
    "    cdef list split_sent(self, str sent):\n",
    "        return token_pattern.findall(sent)\n",
    "    \n",
    "    cpdef void fit(self, list corpus):\n",
    "        cdef str word, sent\n",
    "        cdef list words\n",
    "        for sent in corpus:\n",
    "            words = self.split_sent(sent)\n",
    "            for word in words:\n",
    "                if word not in self.WordToInt:\n",
    "                    self.WordToInt[word] = len(self.WordToInt)\n",
    "        return\n",
    "    \n",
    "    def get_feature_names(self):\n",
    "        return list(self.WordToInt.keys())\n",
    "    \n",
    "    cpdef np.ndarray transform(self, list corpus):\n",
    "        cdef np.ndarray row\n",
    "        cdef dict LocalVocab\n",
    "        cdef str word, sent\n",
    "        cdef int i, ind\n",
    "        cdef list words\n",
    "        cdef np.ndarray transformed = np.zeros([len(corpus), len(self.WordToInt)], dtype=np.int64)\n",
    "        for i, sent in enumerate(corpus):\n",
    "            words = self.split_sent(sent)\n",
    "            row = transformed[i]\n",
    "            LocalVocab = dict()\n",
    "            for word in words:\n",
    "                if word in self.WordToInt:\n",
    "                    ind = self.WordToInt[word]\n",
    "                    if ind not in LocalVocab:\n",
    "                        LocalVocab[ind] = 1\n",
    "                    else:\n",
    "                        LocalVocab[ind] += 1\n",
    "                    \n",
    "            for ind in LocalVocab:\n",
    "                row[ind]=LocalVocab[ind];\n",
    "                    \n",
    "        return transformed\n",
    "    \n",
    "    def fit_transform(self, list corpus):\n",
    "        self._fit(corpus)\n",
    "        return self._transform(corpus)"
   ]
  },
  {
   "cell_type": "markdown",
   "metadata": {},
   "source": [
    "## Comparison\n",
    "В эксперименте сравнивается время метода ```fit```, а также метода ```transform``` для всех моделей. Для оценки времени производится усреднение по нескольким независимым вызовам данных методов. Каждый раз вызов метода ```fit``` производится на новом объекте рассматриваемого класса. Метод ```transform``` вызывается также каждый раз на новом объекте рассматриваемого класса после вызова метода ```fit```."
   ]
  },
  {
   "cell_type": "code",
   "execution_count": 14,
   "metadata": {},
   "outputs": [],
   "source": [
    "number_of_experiment = 200"
   ]
  },
  {
   "cell_type": "markdown",
   "metadata": {},
   "source": [
    "#### Sklearn\n",
    "Стандартная реализация ```CountVectorizer``` с дефолтными параметрами из пакета ```sklearn```."
   ]
  },
  {
   "cell_type": "code",
   "execution_count": 15,
   "metadata": {},
   "outputs": [
    {
     "data": {
      "application/vnd.jupyter.widget-view+json": {
       "model_id": "8de2b9799d6744b8a85d3add889a03f5",
       "version_major": 2,
       "version_minor": 0
      },
      "text/plain": [
       "HBox(children=(IntProgress(value=0, max=200), HTML(value='')))"
      ]
     },
     "metadata": {},
     "output_type": "display_data"
    },
    {
     "name": "stdout",
     "output_type": "stream",
     "text": [
      "\n",
      "(fit=1.3924531519412995, transform=2.5378193056583402)\n"
     ]
    }
   ],
   "source": [
    "list_of_fit_times = []\n",
    "list_of_transform_times = []\n",
    "############################################\n",
    "\n",
    "iterable = tqdm(range(number_of_experiment))\n",
    "for _ in iterable:\n",
    "    model = CountVectorizer()\n",
    "    \n",
    "    start = time.time()\n",
    "    model.fit(corpus)\n",
    "    end = time.time()\n",
    "    \n",
    "    list_of_fit_times.append(end-start)\n",
    "    \n",
    "    start = time.time()\n",
    "    _ = model.transform(corpus).toarray()\n",
    "    end = time.time()\n",
    "    \n",
    "    list_of_transform_times.append(end-start)\n",
    "    \n",
    "    iterable.set_postfix_str('(fit={}, transform={})'.format(np.mean(list_of_fit_times), np.mean(list_of_transform_times)))\n",
    "\n",
    "print('(fit={}, transform={})'.format(np.mean(list_of_fit_times), np.mean(list_of_transform_times)))"
   ]
  },
  {
   "cell_type": "markdown",
   "metadata": {},
   "source": [
    "#### Python Vectorizer\n",
    "Реализация дефолтного ```CountVectorizer``` на python без компиляциии кода."
   ]
  },
  {
   "cell_type": "code",
   "execution_count": 16,
   "metadata": {},
   "outputs": [
    {
     "data": {
      "application/vnd.jupyter.widget-view+json": {
       "model_id": "1ef762e8d23c4f30820ac9f8551e121b",
       "version_major": 2,
       "version_minor": 0
      },
      "text/plain": [
       "HBox(children=(IntProgress(value=0, max=200), HTML(value='')))"
      ]
     },
     "metadata": {},
     "output_type": "display_data"
    },
    {
     "name": "stdout",
     "output_type": "stream",
     "text": [
      "\n",
      "(fit=0.6331940710544586, transform=2.1211783683300016)\n"
     ]
    }
   ],
   "source": [
    "list_of_fit_times = []\n",
    "list_of_transform_times = []\n",
    "############################################\n",
    "\n",
    "iterable = tqdm(range(number_of_experiment))\n",
    "for _ in iterable:\n",
    "    model = Vectorizer()\n",
    "    \n",
    "    start = time.time()\n",
    "    model.fit(corpus)\n",
    "    end = time.time()\n",
    "    \n",
    "    list_of_fit_times.append(end-start)\n",
    "    \n",
    "    start = time.time()\n",
    "    _ = model.transform(corpus)\n",
    "    end = time.time()\n",
    "    \n",
    "    list_of_transform_times.append(end-start)\n",
    "    \n",
    "    iterable.set_postfix_str('(fit={}, transform={})'.format(np.mean(list_of_fit_times), np.mean(list_of_transform_times)))\n",
    "\n",
    "print('(fit={}, transform={})'.format(np.mean(list_of_fit_times), np.mean(list_of_transform_times)))"
   ]
  },
  {
   "cell_type": "markdown",
   "metadata": {},
   "source": [
    "#### Cython Vectorizer without Typing\n",
    "Реализация дефолтного ```CountVectorizer``` на python с дальнешей cython компиляцией кода."
   ]
  },
  {
   "cell_type": "code",
   "execution_count": 17,
   "metadata": {},
   "outputs": [
    {
     "data": {
      "application/vnd.jupyter.widget-view+json": {
       "model_id": "b1566baf4a244c2cb02dbd7ef3473f68",
       "version_major": 2,
       "version_minor": 0
      },
      "text/plain": [
       "HBox(children=(IntProgress(value=0, max=200), HTML(value='')))"
      ]
     },
     "metadata": {},
     "output_type": "display_data"
    },
    {
     "name": "stdout",
     "output_type": "stream",
     "text": [
      "\n",
      "(fit=0.5791377282142639, transform=1.964157031774521)\n"
     ]
    }
   ],
   "source": [
    "list_of_fit_times = []\n",
    "list_of_transform_times = []\n",
    "############################################\n",
    "\n",
    "iterable = tqdm(range(number_of_experiment))\n",
    "for _ in iterable:\n",
    "    model = CythonVectorizer()\n",
    "    \n",
    "    start = time.time()\n",
    "    model.fit(corpus)\n",
    "    end = time.time()\n",
    "    \n",
    "    list_of_fit_times.append(end-start)\n",
    "    \n",
    "    start = time.time()\n",
    "    _ = model.transform(corpus)\n",
    "    end = time.time()\n",
    "    \n",
    "    list_of_transform_times.append(end-start)\n",
    "    \n",
    "    iterable.set_postfix_str('(fit={}, transform={})'.format(np.mean(list_of_fit_times), np.mean(list_of_transform_times)))\n",
    "\n",
    "print('(fit={}, transform={})'.format(np.mean(list_of_fit_times), np.mean(list_of_transform_times)))"
   ]
  },
  {
   "cell_type": "markdown",
   "metadata": {},
   "source": [
    "#### Cython Vectorizer with Typing\n",
    "Реализация дефолтного ```CountVectorizer``` на cython с использованием типиизации объектов с дальнешей cython компиляцией кода."
   ]
  },
  {
   "cell_type": "code",
   "execution_count": 18,
   "metadata": {},
   "outputs": [
    {
     "data": {
      "application/vnd.jupyter.widget-view+json": {
       "model_id": "bc23c2fa7d274234918751abd357a1af",
       "version_major": 2,
       "version_minor": 0
      },
      "text/plain": [
       "HBox(children=(IntProgress(value=0, max=200), HTML(value='')))"
      ]
     },
     "metadata": {},
     "output_type": "display_data"
    },
    {
     "name": "stdout",
     "output_type": "stream",
     "text": [
      "\n",
      "(fit=0.5451541757583618, transform=1.9546177613735198)\n"
     ]
    }
   ],
   "source": [
    "list_of_fit_times = []\n",
    "list_of_transform_times = []\n",
    "############################################\n",
    "\n",
    "iterable = tqdm(range(number_of_experiment))\n",
    "for _ in iterable:\n",
    "    model = CythonTypedVectorizer()\n",
    "    \n",
    "    start = time.time()\n",
    "    model.fit(corpus)\n",
    "    end = time.time()\n",
    "    \n",
    "    list_of_fit_times.append(end-start)\n",
    "    \n",
    "    start = time.time()\n",
    "    _ = model.transform(corpus)\n",
    "    end = time.time()\n",
    "    \n",
    "    list_of_transform_times.append(end-start)\n",
    "    \n",
    "    iterable.set_postfix_str('(fit={}, transform={})'.format(np.mean(list_of_fit_times), np.mean(list_of_transform_times)))\n",
    "\n",
    "print('(fit={}, transform={})'.format(np.mean(list_of_fit_times), np.mean(list_of_transform_times)))"
   ]
  },
  {
   "cell_type": "markdown",
   "metadata": {},
   "source": [
    "## Result"
   ]
  },
  {
   "cell_type": "markdown",
   "metadata": {},
   "source": [
    "Оценка времени выполнялась для выборки, которая состояла из $79582$ строк ($16.8$mb текста). Всего в данном тексте содержится $76777$ различных токенов, которые были найдены всемы моделями и добавлены в словарь.\n",
    "\n",
    "\n",
    "Для чистоты эксперимента время предаставленное в таблице является устредненным по $200$ вызовам функции ```fit``` и $200$ вызовам функции ```transform```.\n",
    "\n",
    "| Функция  | Время fit | Время transform |\n",
    "| ------------- | ------------- | ------------- |\n",
    "| CountVectorizer  | 1393 ms  | 2538 ms |\n",
    "| Vectorizer  | 633 ms | 2121 ms |\n",
    "| CythonVectorizer  | 579 ms | 1964 ms |\n",
    "| CythonTypedVectorizer  | 545 ms | 1955 ms |\n",
    "\n"
   ]
  },
  {
   "cell_type": "code",
   "execution_count": null,
   "metadata": {},
   "outputs": [],
   "source": []
  }
 ],
 "metadata": {
  "kernelspec": {
   "display_name": "Python 3",
   "language": "python",
   "name": "python3"
  },
  "language_info": {
   "codemirror_mode": {
    "name": "ipython",
    "version": 3
   },
   "file_extension": ".py",
   "mimetype": "text/x-python",
   "name": "python",
   "nbconvert_exporter": "python",
   "pygments_lexer": "ipython3",
   "version": "3.6.2"
  }
 },
 "nbformat": 4,
 "nbformat_minor": 2
}
