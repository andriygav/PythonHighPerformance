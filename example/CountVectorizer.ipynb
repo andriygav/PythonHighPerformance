{
 "cells": [
  {
   "cell_type": "code",
   "execution_count": 1,
   "metadata": {},
   "outputs": [],
   "source": [
    "import time"
   ]
  },
  {
   "cell_type": "code",
   "execution_count": 2,
   "metadata": {},
   "outputs": [],
   "source": [
    "import numpy as np\n",
    "from tqdm import tqdm_notebook as tqdm"
   ]
  },
  {
   "cell_type": "code",
   "execution_count": 3,
   "metadata": {},
   "outputs": [],
   "source": [
    "from CountVectorizer.Python.PythonVectorizer import Vectorizer"
   ]
  },
  {
   "cell_type": "code",
   "execution_count": 4,
   "metadata": {},
   "outputs": [],
   "source": [
    "from CountVectorizer.Cython.CythonVectorizer import CythonTypedVectorizer, CythonVectorizer"
   ]
  },
  {
   "cell_type": "code",
   "execution_count": 5,
   "metadata": {},
   "outputs": [],
   "source": [
    "from CountVectorizer.Nuitka.NuitkaVectorizerPack.NuitkaVectorizer import NuitkaVectorizer"
   ]
  },
  {
   "cell_type": "markdown",
   "metadata": {},
   "source": [
    "# WordEmbeding [CountVectorizer]\n",
    "В данном пункте сравним скорости работы простого векторного представления предложений. В качестве базового решения выбран ```CountVectorizer``` из пакета ```sklearn```.\n",
    "\n",
    "На основе ```CountVectorizer``` был написан сообвественый класс ```Vectorizer``` на python. Данный класс повторяет базовые возможности класса ```CountVectorizer```, такие как ```fit``` и ```transform```.\n",
    "\n",
    "Сревнение производительности проводится для класса ```Vectorizer``` который работает в следующих случаях:\n",
    "* Vectorizer --- простая реалзиция на python без компиляции;\n",
    "* PyPyVectorizer --- компииляция функции с помощью pypy3;\n",
    "* NuitkaVectorizer --- компииляция функции с помощью nuitka;\n",
    "* CythonVectorizer --- простая компиляция класса при помощи cython без использования типизации;\n",
    "* CythonTypedVectorizer --- простая компиляция класса при помощи cython c использованием типизации."
   ]
  },
  {
   "cell_type": "markdown",
   "metadata": {},
   "source": [
    "## Data"
   ]
  },
  {
   "cell_type": "code",
   "execution_count": 6,
   "metadata": {},
   "outputs": [],
   "source": [
    "with open('../data/ru.tok', 'r') as f:\n",
    "    corpus = f.read().lower().splitlines()"
   ]
  },
  {
   "cell_type": "markdown",
   "metadata": {},
   "source": [
    "## Comparison\n",
    "В эксперименте сравнивается время метода ```fit```, а также метода ```transform``` для всех моделей. Для оценки времени производится усреднение по нескольким независимым вызовам данных методов. Каждый раз вызов метода ```fit``` производится на новом объекте рассматриваемого класса. Метод ```transform``` вызывается также каждый раз на новом объекте рассматриваемого класса после вызова метода ```fit```."
   ]
  },
  {
   "cell_type": "code",
   "execution_count": 7,
   "metadata": {},
   "outputs": [],
   "source": [
    "number_of_experiment = 200"
   ]
  },
  {
   "cell_type": "markdown",
   "metadata": {},
   "source": [
    "#### Python Vectorizer\n",
    "Реализация дефолтного ```CountVectorizer``` на python без компиляциии кода."
   ]
  },
  {
   "cell_type": "code",
   "execution_count": 8,
   "metadata": {},
   "outputs": [
    {
     "name": "stderr",
     "output_type": "stream",
     "text": [
      "/home/local/AP-TEAM/grabovoy/WORKS/InternetDate/python_torch/lib/python3.6/site-packages/ipykernel_launcher.py:5: TqdmDeprecationWarning: This function will be removed in tqdm==5.0.0\n",
      "Please use `tqdm.notebook.tqdm` instead of `tqdm.tqdm_notebook`\n",
      "  \"\"\"\n"
     ]
    },
    {
     "data": {
      "application/vnd.jupyter.widget-view+json": {
       "model_id": "92e95c1c33f94802a59d03319ce4684f",
       "version_major": 2,
       "version_minor": 0
      },
      "text/plain": [
       "HBox(children=(FloatProgress(value=0.0, max=200.0), HTML(value='')))"
      ]
     },
     "metadata": {},
     "output_type": "display_data"
    },
    {
     "name": "stdout",
     "output_type": "stream",
     "text": [
      "\n",
      "(fit=0.4870743989944458±0.012483059208673923, transform=1.6063056838512422±0.012364059708701853)\n"
     ]
    }
   ],
   "source": [
    "list_of_fit_times = []\n",
    "list_of_transform_times = []\n",
    "############################################\n",
    "\n",
    "iterable = tqdm(range(number_of_experiment))\n",
    "for _ in iterable:\n",
    "    model = Vectorizer()\n",
    "    \n",
    "    start = time.time()\n",
    "    model.fit(corpus)\n",
    "    end = time.time()\n",
    "    \n",
    "    list_of_fit_times.append(end-start)\n",
    "    \n",
    "    start = time.time()\n",
    "    _ = model.transform(corpus)\n",
    "    end = time.time()\n",
    "    \n",
    "    list_of_transform_times.append(end-start)\n",
    "    \n",
    "    iterable.set_postfix_str('(fit={}, transform={})'.format(np.mean(list_of_fit_times), np.mean(list_of_transform_times)))\n",
    "\n",
    "print('(fit={}±{}, transform={}±{})'.format(np.mean(list_of_fit_times), \n",
    "                                            np.std(list_of_fit_times), \n",
    "                                            np.mean(list_of_transform_times),\n",
    "                                            np.std(list_of_transform_times)))"
   ]
  },
  {
   "cell_type": "markdown",
   "metadata": {},
   "source": [
    "#### Cython Vectorizer\n",
    "Реализация дефолтного ```CountVectorizer``` на python с дальнешей cython компиляцией кода."
   ]
  },
  {
   "cell_type": "code",
   "execution_count": 9,
   "metadata": {},
   "outputs": [
    {
     "name": "stderr",
     "output_type": "stream",
     "text": [
      "/home/local/AP-TEAM/grabovoy/WORKS/InternetDate/python_torch/lib/python3.6/site-packages/ipykernel_launcher.py:5: TqdmDeprecationWarning: This function will be removed in tqdm==5.0.0\n",
      "Please use `tqdm.notebook.tqdm` instead of `tqdm.tqdm_notebook`\n",
      "  \"\"\"\n"
     ]
    },
    {
     "data": {
      "application/vnd.jupyter.widget-view+json": {
       "model_id": "5cb0b7c4b877499e8becfcce1843c7af",
       "version_major": 2,
       "version_minor": 0
      },
      "text/plain": [
       "HBox(children=(FloatProgress(value=0.0, max=200.0), HTML(value='')))"
      ]
     },
     "metadata": {},
     "output_type": "display_data"
    },
    {
     "name": "stdout",
     "output_type": "stream",
     "text": [
      "\n",
      "(fit=0.46493925333023073±0.01144521278753481, transform=1.499713158607483±0.012112613888684927)\n"
     ]
    }
   ],
   "source": [
    "list_of_fit_times = []\n",
    "list_of_transform_times = []\n",
    "############################################\n",
    "\n",
    "iterable = tqdm(range(number_of_experiment))\n",
    "for _ in iterable:\n",
    "    model = CythonVectorizer()\n",
    "    \n",
    "    start = time.time()\n",
    "    model.fit(corpus)\n",
    "    end = time.time()\n",
    "    \n",
    "    list_of_fit_times.append(end-start)\n",
    "    \n",
    "    start = time.time()\n",
    "    _ = model.transform(corpus)\n",
    "    end = time.time()\n",
    "    \n",
    "    list_of_transform_times.append(end-start)\n",
    "    \n",
    "    iterable.set_postfix_str('(fit={}, transform={})'.format(np.mean(list_of_fit_times), np.mean(list_of_transform_times)))\n",
    "\n",
    "print('(fit={}±{}, transform={}±{})'.format(np.mean(list_of_fit_times), \n",
    "                                            np.std(list_of_fit_times), \n",
    "                                            np.mean(list_of_transform_times),\n",
    "                                            np.std(list_of_transform_times)))"
   ]
  },
  {
   "cell_type": "markdown",
   "metadata": {},
   "source": [
    "#### Cython Vectorizer with Typing\n",
    "Реализация дефолтного ```CountVectorizer``` на cython с использованием типиизации объектов с дальнешей cython компиляцией кода."
   ]
  },
  {
   "cell_type": "code",
   "execution_count": 10,
   "metadata": {},
   "outputs": [
    {
     "name": "stderr",
     "output_type": "stream",
     "text": [
      "/home/local/AP-TEAM/grabovoy/WORKS/InternetDate/python_torch/lib/python3.6/site-packages/ipykernel_launcher.py:5: TqdmDeprecationWarning: This function will be removed in tqdm==5.0.0\n",
      "Please use `tqdm.notebook.tqdm` instead of `tqdm.tqdm_notebook`\n",
      "  \"\"\"\n"
     ]
    },
    {
     "data": {
      "application/vnd.jupyter.widget-view+json": {
       "model_id": "ab185597fc474e968161d78b20e8a9a0",
       "version_major": 2,
       "version_minor": 0
      },
      "text/plain": [
       "HBox(children=(FloatProgress(value=0.0, max=200.0), HTML(value='')))"
      ]
     },
     "metadata": {},
     "output_type": "display_data"
    },
    {
     "name": "stdout",
     "output_type": "stream",
     "text": [
      "\n",
      "(fit=0.4094876837730408±0.00811198914661061, transform=1.4650929474830627±0.012166617731037083)\n"
     ]
    }
   ],
   "source": [
    "list_of_fit_times = []\n",
    "list_of_transform_times = []\n",
    "############################################\n",
    "\n",
    "iterable = tqdm(range(number_of_experiment))\n",
    "for _ in iterable:\n",
    "    model = CythonTypedVectorizer()\n",
    "    \n",
    "    start = time.time()\n",
    "    model.fit(corpus)\n",
    "    end = time.time()\n",
    "    \n",
    "    list_of_fit_times.append(end-start)\n",
    "    \n",
    "    start = time.time()\n",
    "    _ = model.transform(corpus)\n",
    "    end = time.time()\n",
    "    \n",
    "    list_of_transform_times.append(end-start)\n",
    "    \n",
    "    iterable.set_postfix_str('(fit={}, transform={})'.format(np.mean(list_of_fit_times), np.mean(list_of_transform_times)))\n",
    "\n",
    "print('(fit={}±{}, transform={}±{})'.format(np.mean(list_of_fit_times), \n",
    "                                            np.std(list_of_fit_times), \n",
    "                                            np.mean(list_of_transform_times),\n",
    "                                            np.std(list_of_transform_times)))"
   ]
  },
  {
   "cell_type": "markdown",
   "metadata": {},
   "source": [
    "#### Nuitka Vectorizer\n",
    "Реализация дефолтного ```CountVectorizer``` с компиляцией кода с помощью nuitka."
   ]
  },
  {
   "cell_type": "code",
   "execution_count": 11,
   "metadata": {},
   "outputs": [
    {
     "name": "stderr",
     "output_type": "stream",
     "text": [
      "/home/local/AP-TEAM/grabovoy/WORKS/InternetDate/python_torch/lib/python3.6/site-packages/ipykernel_launcher.py:5: TqdmDeprecationWarning: This function will be removed in tqdm==5.0.0\n",
      "Please use `tqdm.notebook.tqdm` instead of `tqdm.tqdm_notebook`\n",
      "  \"\"\"\n"
     ]
    },
    {
     "data": {
      "application/vnd.jupyter.widget-view+json": {
       "model_id": "8e63a74f3ca1436db06c135a5e15bc1b",
       "version_major": 2,
       "version_minor": 0
      },
      "text/plain": [
       "HBox(children=(FloatProgress(value=0.0, max=200.0), HTML(value='')))"
      ]
     },
     "metadata": {},
     "output_type": "display_data"
    },
    {
     "name": "stdout",
     "output_type": "stream",
     "text": [
      "\n",
      "(fit=0.5539614439010621±0.02277020746388094, transform=1.5527407383918763±0.04169238386189927)\n"
     ]
    }
   ],
   "source": [
    "list_of_fit_times = []\n",
    "list_of_transform_times = []\n",
    "############################################\n",
    "\n",
    "iterable = tqdm(range(number_of_experiment))\n",
    "for _ in iterable:\n",
    "    model = NuitkaVectorizer()\n",
    "    \n",
    "    start = time.time()\n",
    "    model.fit(corpus)\n",
    "    end = time.time()\n",
    "    \n",
    "    list_of_fit_times.append(end-start)\n",
    "    \n",
    "    start = time.time()\n",
    "    _ = model.transform(corpus)\n",
    "    end = time.time()\n",
    "    \n",
    "    list_of_transform_times.append(end-start)\n",
    "    \n",
    "    iterable.set_postfix_str('(fit={}, transform={})'.format(np.mean(list_of_fit_times), np.mean(list_of_transform_times)))\n",
    "\n",
    "print('(fit={}±{}, transform={}±{})'.format(np.mean(list_of_fit_times), \n",
    "                                            np.std(list_of_fit_times), \n",
    "                                            np.mean(list_of_transform_times),\n",
    "                                            np.std(list_of_transform_times)))\n"
   ]
  },
  {
   "cell_type": "markdown",
   "metadata": {},
   "source": [
    "Оценка времени выполнялась для выборки, которая состояла из $79582$ строк ($16.8$mb текста). Всего в данном тексте содержится $76777$ различных токенов, которые были найдены всемы моделями и добавлены в словарь.\n",
    "\n",
    "\n",
    "Для чистоты эксперимента время предаставленное в таблице является устредненным по $200$ вызовам функции ```fit``` и $200$ вызовам функции ```transform```.\n",
    "\n",
    "| Функция  | Время fit | Время transform |\n",
    "| ------------- | ------------- | ------------- |\n",
    "| Vectorizer  | 487±12 ms | 1606±12 ms |\n",
    "| CythonVectorizer  | 465±11 ms | 1500±12 ms |\n",
    "| CythonTypedVectorizer  | 409±8 ms | 1465±12 ms |\n",
    "| NuitkaVectorizer  | 554±23 ms | 1553±42 ms |\n"
   ]
  }
 ],
 "metadata": {
  "kernelspec": {
   "display_name": "Python 3",
   "language": "python",
   "name": "python3"
  },
  "language_info": {
   "codemirror_mode": {
    "name": "ipython",
    "version": 3
   },
   "file_extension": ".py",
   "mimetype": "text/x-python",
   "name": "python",
   "nbconvert_exporter": "python",
   "pygments_lexer": "ipython3",
   "version": "3.6.9"
  }
 },
 "nbformat": 4,
 "nbformat_minor": 4
}
