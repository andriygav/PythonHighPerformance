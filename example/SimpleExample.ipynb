{
 "cells": [
  {
   "cell_type": "code",
   "execution_count": 1,
   "metadata": {},
   "outputs": [],
   "source": [
    "import Cython\n",
    "%load_ext Cython"
   ]
  },
  {
   "cell_type": "code",
   "execution_count": 2,
   "metadata": {},
   "outputs": [],
   "source": [
    "import time\n",
    "import numpy as np\n",
    "from tqdm import tqdm_notebook as tqdm"
   ]
  },
  {
   "cell_type": "markdown",
   "metadata": {},
   "source": [
    "# Базовый пример использования Cython\n",
    "В данном пункте приведем пример простой функции на языке python. В качестве функции рассматривалась функция, которая суммирует числа от $0$ до $N$. В эксперименте сравнивается скорость работы данной функции в следующих случаях: \n",
    "* функция реализована на python без предварительной компиляции; \n",
    "* функция реализована на pypy;\n",
    "* функция реализована на python но предварительно скомпилирована;\n",
    "* функция реализована на cython с типизацией объектов."
   ]
  },
  {
   "cell_type": "markdown",
   "metadata": {},
   "source": [
    "## Модели"
   ]
  },
  {
   "cell_type": "code",
   "execution_count": 3,
   "metadata": {},
   "outputs": [],
   "source": [
    "%%cython\n",
    "\n",
    "def CythonFunc(N):\n",
    "    ret = 0\n",
    "    for n in range(N):\n",
    "        ret += n\n",
    "    return ret\n",
    "\n",
    "def CythonTypedFunc(int N):\n",
    "    cdef long ret = 0\n",
    "    cdef long n\n",
    "    for n in range(N):\n",
    "        ret += n\n",
    "    return ret"
   ]
  },
  {
   "cell_type": "code",
   "execution_count": 4,
   "metadata": {},
   "outputs": [],
   "source": [
    "def Func(N):\n",
    "    ret = 0\n",
    "    for n in range(N):\n",
    "        ret += n\n",
    "    return ret"
   ]
  },
  {
   "cell_type": "markdown",
   "metadata": {},
   "source": [
    "## Comparison\n",
    "Для сравнения рассматривается $N = 10000000$ для всех моделей, а также каждая функция вызывается $200$ раз для усреднения результата."
   ]
  },
  {
   "cell_type": "code",
   "execution_count": 5,
   "metadata": {},
   "outputs": [],
   "source": [
    "N = 10000000\n",
    "number_of_experiment = 200"
   ]
  },
  {
   "cell_type": "markdown",
   "metadata": {},
   "source": [
    "#### Python Func\n",
    "Время работы функции для базовой реализации на python."
   ]
  },
  {
   "cell_type": "code",
   "execution_count": 6,
   "metadata": {},
   "outputs": [
    {
     "data": {
      "application/vnd.jupyter.widget-view+json": {
       "model_id": "3daa3b4ec71746b7b82e9f9698978876",
       "version_major": 2,
       "version_minor": 0
      },
      "text/plain": [
       "HBox(children=(IntProgress(value=0, max=200), HTML(value='')))"
      ]
     },
     "metadata": {},
     "output_type": "display_data"
    },
    {
     "name": "stdout",
     "output_type": "stream",
     "text": [
      "\n",
      "(time=0.6191353499889374)\n"
     ]
    }
   ],
   "source": [
    "list_of_times = []\n",
    "############################################\n",
    "\n",
    "iterable = tqdm(range(number_of_experiment))\n",
    "for _ in iterable:\n",
    "    start = time.time()\n",
    "    Func(N)\n",
    "    end = time.time()\n",
    "    \n",
    "    list_of_times.append(end-start)\n",
    "    \n",
    "    iterable.set_postfix_str('(time={})'.format(np.mean(list_of_times)))\n",
    "print('(time={})'.format(np.mean(list_of_times)))"
   ]
  },
  {
   "cell_type": "markdown",
   "metadata": {},
   "source": [
    "#### Cython Func\n",
    "Время работы скомпилированной программы на cython без добавления типизации объектов."
   ]
  },
  {
   "cell_type": "code",
   "execution_count": 7,
   "metadata": {},
   "outputs": [
    {
     "data": {
      "application/vnd.jupyter.widget-view+json": {
       "model_id": "9b3c8abf085e44dcafd51d2124141d61",
       "version_major": 2,
       "version_minor": 0
      },
      "text/plain": [
       "HBox(children=(IntProgress(value=0, max=200), HTML(value='')))"
      ]
     },
     "metadata": {},
     "output_type": "display_data"
    },
    {
     "name": "stdout",
     "output_type": "stream",
     "text": [
      "\n",
      "(time=0.4386326432228088)\n"
     ]
    }
   ],
   "source": [
    "list_of_times = []\n",
    "############################################\n",
    "\n",
    "iterable = tqdm(range(number_of_experiment))\n",
    "for _ in iterable:\n",
    "    start = time.time()\n",
    "    CythonFunc(N)\n",
    "    end = time.time()\n",
    "    \n",
    "    list_of_times.append(end-start)\n",
    "    \n",
    "    iterable.set_postfix_str('(time={})'.format(np.mean(list_of_times)))\n",
    "    \n",
    "print('(time={})'.format(np.mean(list_of_times)))"
   ]
  },
  {
   "cell_type": "markdown",
   "metadata": {},
   "source": [
    "#### Cython Typed Func\n",
    "Время работы скомпилированной программы на cython c добавлениям типизации объектов."
   ]
  },
  {
   "cell_type": "code",
   "execution_count": 8,
   "metadata": {
    "scrolled": true
   },
   "outputs": [
    {
     "data": {
      "application/vnd.jupyter.widget-view+json": {
       "model_id": "c9a39fd44c4f4f94bb888522ba95c6a5",
       "version_major": 2,
       "version_minor": 0
      },
      "text/plain": [
       "HBox(children=(IntProgress(value=0, max=200), HTML(value='')))"
      ]
     },
     "metadata": {},
     "output_type": "display_data"
    },
    {
     "name": "stdout",
     "output_type": "stream",
     "text": [
      "\n",
      "(time=1.71661376953125e-06)\n"
     ]
    }
   ],
   "source": [
    "list_of_times = []\n",
    "############################################\n",
    "\n",
    "iterable = tqdm(range(number_of_experiment))\n",
    "for _ in iterable:\n",
    "    start = time.time()\n",
    "    ret = CythonTypedFunc(N)\n",
    "    end = time.time()\n",
    "    \n",
    "    list_of_times.append(end-start)\n",
    "    \n",
    "    iterable.set_postfix_str('(time={})'.format(np.mean(list_of_times)))\n",
    "print('(time={})'.format(np.mean(list_of_times)))"
   ]
  },
  {
   "cell_type": "markdown",
   "metadata": {},
   "source": [
    "## Result"
   ]
  },
  {
   "cell_type": "markdown",
   "metadata": {},
   "source": [
    "В данном простом примере получили следующие оценки времени работы функций:\n",
    "\n",
    "| Функция  | Время |\n",
    "| ------------- | ------------- |\n",
    "| Python Func  | 619 ms  |\n",
    "| Cython Func  | 439 ms  |\n",
    "| Cython Typed Func  | 0.172 ms |\n"
   ]
  },
  {
   "cell_type": "markdown",
   "metadata": {},
   "source": [
    "# NumPy in Cython"
   ]
  },
  {
   "cell_type": "code",
   "execution_count": 9,
   "metadata": {},
   "outputs": [],
   "source": [
    "%%cython\n",
    "import numpy as np\n",
    "cimport numpy as np\n",
    "np.import_array()\n",
    "\n",
    "cpdef return_zeros():\n",
    "    return np.zeros([10, 15], dtype=np.int32)\n",
    "\n",
    "cpdef return_empty():\n",
    "    cdef np.npy_intp dims[2]\n",
    "    dims[0] = 10\n",
    "    dims[1] = 15\n",
    "    cdef np.ndarray data = np.PyArray_SimpleNew(2, dims, np.NPY_INT32)\n",
    "    np.PyArray_FILLWBYTE(data, 0)\n",
    "    return data"
   ]
  }
 ],
 "metadata": {
  "kernelspec": {
   "display_name": "Python 3",
   "language": "python",
   "name": "python3"
  },
  "language_info": {
   "codemirror_mode": {
    "name": "ipython",
    "version": 3
   },
   "file_extension": ".py",
   "mimetype": "text/x-python",
   "name": "python",
   "nbconvert_exporter": "python",
   "pygments_lexer": "ipython3",
   "version": "3.6.2"
  }
 },
 "nbformat": 4,
 "nbformat_minor": 2
}
