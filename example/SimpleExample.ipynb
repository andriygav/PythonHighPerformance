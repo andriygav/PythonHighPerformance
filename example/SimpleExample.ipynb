{
 "cells": [
  {
   "cell_type": "code",
   "execution_count": 1,
   "metadata": {},
   "outputs": [],
   "source": [
    "import time"
   ]
  },
  {
   "cell_type": "code",
   "execution_count": 2,
   "metadata": {},
   "outputs": [],
   "source": [
    "import numpy as np\n",
    "from tqdm import tqdm_notebook as tqdm"
   ]
  },
  {
   "cell_type": "code",
   "execution_count": 3,
   "metadata": {},
   "outputs": [],
   "source": [
    "from SimpleExample.Python.PythonFunc import PythonFunc"
   ]
  },
  {
   "cell_type": "code",
   "execution_count": 4,
   "metadata": {},
   "outputs": [],
   "source": [
    "from SimpleExample.Cython.CythonFunc import CythonFunc, CythonOpenMPFunc, CythonTypedFunc"
   ]
  },
  {
   "cell_type": "code",
   "execution_count": 5,
   "metadata": {},
   "outputs": [],
   "source": [
    "from SimpleExample.Nuitka.NuitkaFuncPack.NuitkaFunc import NuitkaFunc"
   ]
  },
  {
   "cell_type": "code",
   "execution_count": 6,
   "metadata": {},
   "outputs": [],
   "source": [
    "from SimpleExample.Numba.NumbaFunc import NumbaFunc"
   ]
  },
  {
   "cell_type": "markdown",
   "metadata": {},
   "source": [
    "# Базовый пример"
   ]
  },
  {
   "cell_type": "markdown",
   "metadata": {},
   "source": [
    "В данном пункте приведем пример простой функции на языке python. В качестве функции рассматривалась функция, которая суммирует числа от $0$ до $N$. В эксперименте сравнивается скорость работы данной функции в следующих случаях: \n",
    "* PythonFunc --- функция реализована на python без предварительной компиляции;\n",
    "* NumbaFunc --- функция реализована на python с использованием Numba;\n",
    "* PyPyFunc --- функция реализована на pypy;\n",
    "* CythonFunc --- функция реализована на python но предварительно скомпилирована;\n",
    "* CythonTypedFunc --- функция реализована на cython с типизацией объектов;\n",
    "* CythonOpenMPFunc --- функция реализована на cython с типизацией объектов а также распаралеливанием на OpenMP;\n",
    "* NuitkaFunc --- функция которая компилируется с помощью Nuitka"
   ]
  },
  {
   "cell_type": "markdown",
   "metadata": {},
   "source": [
    "## Comparison\n",
    "Для сравнения рассматривается $N = 100000000$ для всех моделей, а также каждая функция вызывается $200$ раз для усреднения результата."
   ]
  },
  {
   "cell_type": "code",
   "execution_count": 7,
   "metadata": {},
   "outputs": [],
   "source": [
    "N = 100000000\n",
    "number_of_experiment = 200"
   ]
  },
  {
   "cell_type": "markdown",
   "metadata": {},
   "source": [
    "### Python Func\n",
    "Время работы функции для базовой реализации на python."
   ]
  },
  {
   "cell_type": "code",
   "execution_count": 8,
   "metadata": {},
   "outputs": [
    {
     "name": "stderr",
     "output_type": "stream",
     "text": [
      "/home/local/AP-TEAM/grabovoy/WORKS/InternetDate/python_torch/lib/python3.6/site-packages/ipykernel_launcher.py:4: TqdmDeprecationWarning: This function will be removed in tqdm==5.0.0\n",
      "Please use `tqdm.notebook.tqdm` instead of `tqdm.tqdm_notebook`\n",
      "  after removing the cwd from sys.path.\n"
     ]
    },
    {
     "data": {
      "application/vnd.jupyter.widget-view+json": {
       "model_id": "6f53251bcb544bb78cace46144ae007d",
       "version_major": 2,
       "version_minor": 0
      },
      "text/plain": [
       "HBox(children=(FloatProgress(value=0.0, max=200.0), HTML(value='')))"
      ]
     },
     "metadata": {},
     "output_type": "display_data"
    },
    {
     "name": "stdout",
     "output_type": "stream",
     "text": [
      "\n",
      "(time=4.443214026689529±0.04191041901652995)\n",
      "CPU times: user 14min 49s, sys: 107 ms, total: 14min 49s\n",
      "Wall time: 14min 48s\n"
     ]
    }
   ],
   "source": [
    "%%time\n",
    "list_of_times = []\n",
    "############################################\n",
    "\n",
    "iterable = tqdm(range(number_of_experiment))\n",
    "for _ in iterable:\n",
    "    start = time.time()\n",
    "    ret = PythonFunc(N)\n",
    "    end = time.time()\n",
    "    \n",
    "    list_of_times.append(end-start)\n",
    "    \n",
    "    iterable.set_postfix_str('(time={})'.format(np.mean(list_of_times)))\n",
    "    \n",
    "print('(time={}±{})'.format(np.mean(list_of_times), np.std(list_of_times)))"
   ]
  },
  {
   "cell_type": "markdown",
   "metadata": {},
   "source": [
    "### Numba Func\n",
    "Время работы функции для компиляции при помощи Numba."
   ]
  },
  {
   "cell_type": "code",
   "execution_count": 9,
   "metadata": {},
   "outputs": [
    {
     "name": "stderr",
     "output_type": "stream",
     "text": [
      "/home/local/AP-TEAM/grabovoy/WORKS/InternetDate/python_torch/lib/python3.6/site-packages/numba/typed_passes.py:293: NumbaPerformanceWarning: \n",
      "The keyword argument 'parallel=True' was specified but no transformation for parallel execution was possible.\n",
      "\n",
      "To find out why, try turning on parallel diagnostics, see http://numba.pydata.org/numba-doc/latest/user/parallel.html#diagnostics for help.\n",
      "\n",
      "File \"SimpleExample/Numba/NumbaFunc.py\", line 4:\n",
      "@jit(nopython=True, parallel=True)\n",
      "def NumbaFunc(N):\n",
      "^\n",
      "\n",
      "  state.func_ir.loc))\n"
     ]
    }
   ],
   "source": [
    "_ = NumbaFunc(10)"
   ]
  },
  {
   "cell_type": "code",
   "execution_count": 10,
   "metadata": {},
   "outputs": [
    {
     "name": "stderr",
     "output_type": "stream",
     "text": [
      "/home/local/AP-TEAM/grabovoy/WORKS/InternetDate/python_torch/lib/python3.6/site-packages/ipykernel_launcher.py:4: TqdmDeprecationWarning: This function will be removed in tqdm==5.0.0\n",
      "Please use `tqdm.notebook.tqdm` instead of `tqdm.tqdm_notebook`\n",
      "  after removing the cwd from sys.path.\n"
     ]
    },
    {
     "data": {
      "application/vnd.jupyter.widget-view+json": {
       "model_id": "943273332987475494184b52ecc58619",
       "version_major": 2,
       "version_minor": 0
      },
      "text/plain": [
       "HBox(children=(FloatProgress(value=0.0, max=200.0), HTML(value='')))"
      ]
     },
     "metadata": {},
     "output_type": "display_data"
    },
    {
     "name": "stdout",
     "output_type": "stream",
     "text": [
      "\n",
      "(time=1.794099807739258e-06±1.286121285770796e-06)\n",
      "CPU times: user 109 ms, sys: 16 ms, total: 125 ms\n",
      "Wall time: 111 ms\n"
     ]
    }
   ],
   "source": [
    "%%time\n",
    "list_of_times = []\n",
    "############################################\n",
    "\n",
    "iterable = tqdm(range(number_of_experiment))\n",
    "for _ in iterable:\n",
    "    start = time.time()\n",
    "    ret = NumbaFunc(N)\n",
    "    end = time.time()\n",
    "    \n",
    "    list_of_times.append(end-start)\n",
    "    \n",
    "    iterable.set_postfix_str('(time={})'.format(np.mean(list_of_times)))\n",
    "    \n",
    "print('(time={}±{})'.format(np.mean(list_of_times), np.std(list_of_times)))"
   ]
  },
  {
   "cell_type": "markdown",
   "metadata": {},
   "source": [
    "### Cython Func\n",
    "Время работы функции для базовой реализации с компиляцией на cython."
   ]
  },
  {
   "cell_type": "code",
   "execution_count": 11,
   "metadata": {},
   "outputs": [
    {
     "name": "stderr",
     "output_type": "stream",
     "text": [
      "/home/local/AP-TEAM/grabovoy/WORKS/InternetDate/python_torch/lib/python3.6/site-packages/ipykernel_launcher.py:4: TqdmDeprecationWarning: This function will be removed in tqdm==5.0.0\n",
      "Please use `tqdm.notebook.tqdm` instead of `tqdm.tqdm_notebook`\n",
      "  after removing the cwd from sys.path.\n"
     ]
    },
    {
     "data": {
      "application/vnd.jupyter.widget-view+json": {
       "model_id": "7e83bc65dff04380a3fd998cfed7c4e2",
       "version_major": 2,
       "version_minor": 0
      },
      "text/plain": [
       "HBox(children=(FloatProgress(value=0.0, max=200.0), HTML(value='')))"
      ]
     },
     "metadata": {},
     "output_type": "display_data"
    },
    {
     "name": "stdout",
     "output_type": "stream",
     "text": [
      "\n",
      "(time=3.19112242937088±0.06787856737809259)\n",
      "CPU times: user 10min 40s, sys: 853 ms, total: 10min 40s\n",
      "Wall time: 10min 38s\n"
     ]
    }
   ],
   "source": [
    "%%time\n",
    "list_of_times = []\n",
    "############################################\n",
    "\n",
    "iterable = tqdm(range(number_of_experiment))\n",
    "for _ in iterable:\n",
    "    start = time.time()\n",
    "    ret = CythonFunc(N)\n",
    "    end = time.time()\n",
    "    \n",
    "    list_of_times.append(end-start)\n",
    "    \n",
    "    iterable.set_postfix_str('(time={})'.format(np.mean(list_of_times)))\n",
    "    \n",
    "print('(time={}±{})'.format(np.mean(list_of_times), np.std(list_of_times)))"
   ]
  },
  {
   "cell_type": "markdown",
   "metadata": {},
   "source": [
    "### Cython Typed Func\n",
    "Время работы функции для базовой реализации и ее типизации с компиляцией на cython."
   ]
  },
  {
   "cell_type": "code",
   "execution_count": 12,
   "metadata": {},
   "outputs": [
    {
     "name": "stderr",
     "output_type": "stream",
     "text": [
      "/home/local/AP-TEAM/grabovoy/WORKS/InternetDate/python_torch/lib/python3.6/site-packages/ipykernel_launcher.py:4: TqdmDeprecationWarning: This function will be removed in tqdm==5.0.0\n",
      "Please use `tqdm.notebook.tqdm` instead of `tqdm.tqdm_notebook`\n",
      "  after removing the cwd from sys.path.\n"
     ]
    },
    {
     "data": {
      "application/vnd.jupyter.widget-view+json": {
       "model_id": "16fcd81fc1d84ba6804336054f9ec345",
       "version_major": 2,
       "version_minor": 0
      },
      "text/plain": [
       "HBox(children=(FloatProgress(value=0.0, max=200.0), HTML(value='')))"
      ]
     },
     "metadata": {},
     "output_type": "display_data"
    },
    {
     "name": "stdout",
     "output_type": "stream",
     "text": [
      "\n",
      "(time=0.031920006275177±0.0010647294523333558)\n",
      "CPU times: user 6.58 s, sys: 4.02 ms, total: 6.58 s\n",
      "Wall time: 6.55 s\n"
     ]
    }
   ],
   "source": [
    "%%time\n",
    "list_of_times = []\n",
    "############################################\n",
    "\n",
    "iterable = tqdm(range(number_of_experiment))\n",
    "for _ in iterable:\n",
    "    start = time.time()\n",
    "    ret = CythonTypedFunc(N)\n",
    "    end = time.time()\n",
    "    \n",
    "    list_of_times.append(end-start)\n",
    "    \n",
    "    iterable.set_postfix_str('(time={})'.format(np.mean(list_of_times)))\n",
    "    \n",
    "print('(time={}±{})'.format(np.mean(list_of_times), np.std(list_of_times)))"
   ]
  },
  {
   "cell_type": "markdown",
   "metadata": {},
   "source": [
    "### Cython Open MP Func\n",
    "Время работы функции для базовой реализации с распаралеливанием на OpenMP компиляцией на cython."
   ]
  },
  {
   "cell_type": "code",
   "execution_count": 13,
   "metadata": {},
   "outputs": [
    {
     "name": "stderr",
     "output_type": "stream",
     "text": [
      "/home/local/AP-TEAM/grabovoy/WORKS/InternetDate/python_torch/lib/python3.6/site-packages/ipykernel_launcher.py:4: TqdmDeprecationWarning: This function will be removed in tqdm==5.0.0\n",
      "Please use `tqdm.notebook.tqdm` instead of `tqdm.tqdm_notebook`\n",
      "  after removing the cwd from sys.path.\n"
     ]
    },
    {
     "data": {
      "application/vnd.jupyter.widget-view+json": {
       "model_id": "b992dd8207464571b04509ae89949ea6",
       "version_major": 2,
       "version_minor": 0
      },
      "text/plain": [
       "HBox(children=(FloatProgress(value=0.0, max=200.0), HTML(value='')))"
      ]
     },
     "metadata": {},
     "output_type": "display_data"
    },
    {
     "name": "stdout",
     "output_type": "stream",
     "text": [
      "\n",
      "(time=0.010022884607315064±0.003041635490902328)\n",
      "CPU times: user 7.63 s, sys: 28 ms, total: 7.66 s\n",
      "Wall time: 2.16 s\n"
     ]
    }
   ],
   "source": [
    "%%time\n",
    "list_of_times = []\n",
    "############################################\n",
    "\n",
    "iterable = tqdm(range(number_of_experiment))\n",
    "for _ in iterable:\n",
    "    start = time.time()\n",
    "    ret = CythonOpenMPFunc(N)\n",
    "    end = time.time()\n",
    "    \n",
    "    list_of_times.append(end-start)\n",
    "    \n",
    "    iterable.set_postfix_str('(time={})'.format(np.mean(list_of_times)))\n",
    "    \n",
    "print('(time={}±{})'.format(np.mean(list_of_times), np.std(list_of_times)))"
   ]
  },
  {
   "cell_type": "markdown",
   "metadata": {},
   "source": [
    "### Nuitka Func\n",
    "Время работы функции для базовой реализации с распаралеливанием на OpenMP компиляцией на cython."
   ]
  },
  {
   "cell_type": "code",
   "execution_count": 14,
   "metadata": {},
   "outputs": [
    {
     "name": "stderr",
     "output_type": "stream",
     "text": [
      "/home/local/AP-TEAM/grabovoy/WORKS/InternetDate/python_torch/lib/python3.6/site-packages/ipykernel_launcher.py:4: TqdmDeprecationWarning: This function will be removed in tqdm==5.0.0\n",
      "Please use `tqdm.notebook.tqdm` instead of `tqdm.tqdm_notebook`\n",
      "  after removing the cwd from sys.path.\n"
     ]
    },
    {
     "data": {
      "application/vnd.jupyter.widget-view+json": {
       "model_id": "fcf889efbad64a3d80fe32d494d6f5b0",
       "version_major": 2,
       "version_minor": 0
      },
      "text/plain": [
       "HBox(children=(FloatProgress(value=0.0, max=200.0), HTML(value='')))"
      ]
     },
     "metadata": {},
     "output_type": "display_data"
    },
    {
     "name": "stdout",
     "output_type": "stream",
     "text": [
      "\n",
      "(time=4.160540078878403±0.07879066212458087)\n",
      "CPU times: user 13min 52s, sys: 95.7 ms, total: 13min 52s\n",
      "Wall time: 13min 52s\n"
     ]
    }
   ],
   "source": [
    "%%time\n",
    "list_of_times = []\n",
    "############################################\n",
    "\n",
    "iterable = tqdm(range(number_of_experiment))\n",
    "for _ in iterable:\n",
    "    start = time.time()\n",
    "    ret = NuitkaFunc(N)\n",
    "    end = time.time()\n",
    "    \n",
    "    list_of_times.append(end-start)\n",
    "    \n",
    "    iterable.set_postfix_str('(time={})'.format(np.mean(list_of_times)))\n",
    "    \n",
    "print('(time={}±{})'.format(np.mean(list_of_times), np.std(list_of_times)))"
   ]
  },
  {
   "cell_type": "markdown",
   "metadata": {},
   "source": [
    "В данном простом примере получили следующие оценки времени работы функций:\n",
    "\n",
    "| Функция  | Время |\n",
    "| ------------- | ------------- |\n",
    "| PythonFunc  | 4421±42 ms  |\n",
    "| NumbaFunc  | 0.002±0.001 ms  |\n",
    "| CythonFunc  | 3191±69 ms  |\n",
    "| CythonTypedFunc  | 31±1 ms  |\n",
    "| CythonOpenMPFunc  | 10±3 ms  |\n",
    "| NuitkaFunc  | 4161±79 ms  |\n"
   ]
  }
 ],
 "metadata": {
  "kernelspec": {
   "display_name": "Python 3",
   "language": "python",
   "name": "python3"
  },
  "language_info": {
   "codemirror_mode": {
    "name": "ipython",
    "version": 3
   },
   "file_extension": ".py",
   "mimetype": "text/x-python",
   "name": "python",
   "nbconvert_exporter": "python",
   "pygments_lexer": "ipython3",
   "version": "3.6.9"
  }
 },
 "nbformat": 4,
 "nbformat_minor": 4
}
