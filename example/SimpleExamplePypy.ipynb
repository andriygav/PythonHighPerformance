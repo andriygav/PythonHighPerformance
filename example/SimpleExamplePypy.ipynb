{
 "cells": [
  {
   "cell_type": "code",
   "execution_count": 1,
   "metadata": {},
   "outputs": [],
   "source": [
    "import time\n",
    "import numpy as np\n",
    "from tqdm import tqdm_notebook as tqdm"
   ]
  },
  {
   "cell_type": "markdown",
   "metadata": {},
   "source": [
    "# Базовый пример использования Cython\n",
    "В данном пункте приведем пример простой функции на языке python. В качестве функции рассматривалась функция, которая суммирует числа от $0$ до $N$. В эксперименте сравнивается скорость работы данной функции в следующих случаях: \n",
    "* функция реализована на python без предварительной компиляции; \n",
    "* функция реализована на pypy;\n",
    "* функция реализована на python но предварительно скомпилирована;\n",
    "* функция реализована на cython с типизацией объектов."
   ]
  },
  {
   "cell_type": "markdown",
   "metadata": {},
   "source": [
    "## Модели"
   ]
  },
  {
   "cell_type": "code",
   "execution_count": 2,
   "metadata": {},
   "outputs": [],
   "source": [
    "def FuncPypy(N):\n",
    "    ret = 0\n",
    "    for n in range(N):\n",
    "        ret += n\n",
    "    return ret"
   ]
  },
  {
   "cell_type": "markdown",
   "metadata": {},
   "source": [
    "## Comparison\n",
    "Для сравнения рассматривается $N = 10000000$ для всех моделей, а также каждая функция вызывается $200$ раз для усреднения результата."
   ]
  },
  {
   "cell_type": "code",
   "execution_count": 3,
   "metadata": {},
   "outputs": [],
   "source": [
    "N = 10000000\n",
    "number_of_experiment = 200"
   ]
  },
  {
   "cell_type": "markdown",
   "metadata": {},
   "source": [
    "#### Python Func\n",
    "Время работы функции для базовой реализации на python."
   ]
  },
  {
   "cell_type": "code",
   "execution_count": 4,
   "metadata": {},
   "outputs": [
    {
     "name": "stderr",
     "output_type": "stream",
     "text": [
      "/usr/local/Cellar/pypy3/7.3.0/libexec/site-packages/ipykernel_launcher.py:4: TqdmDeprecationWarning: This function will be removed in tqdm==5.0.0\n",
      "Please use `tqdm.notebook.tqdm` instead of `tqdm.tqdm_notebook`\n",
      "  after removing the cwd from sys.path.\n"
     ]
    },
    {
     "data": {
      "application/vnd.jupyter.widget-view+json": {
       "model_id": "0c812daaa2624f77af991bc411c0e431",
       "version_major": 2,
       "version_minor": 0
      },
      "text/plain": [
       "HBox(children=(FloatProgress(value=0.0, max=200.0), HTML(value='')))"
      ]
     },
     "metadata": {},
     "output_type": "display_data"
    },
    {
     "name": "stdout",
     "output_type": "stream",
     "text": [
      "\n",
      "(time=0.01614871621131897)\n"
     ]
    }
   ],
   "source": [
    "list_of_times = []\n",
    "############################################\n",
    "\n",
    "iterable = tqdm(range(number_of_experiment))\n",
    "for _ in iterable:\n",
    "    start = time.time()\n",
    "    FuncPypy(N)\n",
    "    end = time.time()\n",
    "    \n",
    "    list_of_times.append(end-start)\n",
    "    \n",
    "    iterable.set_postfix_str('(time={})'.format(np.mean(list_of_times)))\n",
    "print('(time={})'.format(np.mean(list_of_times)))"
   ]
  },
  {
   "cell_type": "markdown",
   "metadata": {},
   "source": [
    "## Result"
   ]
  },
  {
   "cell_type": "markdown",
   "metadata": {},
   "source": [
    "В данном простом примере получили следующие оценки времени работы функций:\n",
    "\n",
    "| Функция  | Время |\n",
    "| ------------- | ------------- |\n",
    "| FuncPypy  | 16 ms  |\n"
   ]
  }
 ],
 "metadata": {
  "kernelspec": {
   "display_name": "Python 3",
   "language": "python",
   "name": "python3"
  },
  "language_info": {
   "codemirror_mode": {
    "name": "ipython",
    "version": 3
   },
   "file_extension": ".py",
   "mimetype": "text/x-python",
   "name": "python",
   "nbconvert_exporter": "python",
   "pygments_lexer": "ipython3",
   "version": "3.6.9"
  }
 },
 "nbformat": 4,
 "nbformat_minor": 2
}
